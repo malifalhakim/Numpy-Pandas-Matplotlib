{
 "cells": [
  {
   "cell_type": "markdown",
   "id": "9cbb999b",
   "metadata": {},
   "source": [
    "# Numpy"
   ]
  },
  {
   "cell_type": "markdown",
   "id": "4a581ff9",
   "metadata": {},
   "source": [
    "##### List but the content must be same type"
   ]
  },
  {
   "cell_type": "markdown",
   "id": "9352d897",
   "metadata": {},
   "source": [
    "### Pengenalan"
   ]
  },
  {
   "cell_type": "code",
   "execution_count": 1,
   "id": "c24df60f",
   "metadata": {},
   "outputs": [],
   "source": [
    "import numpy as np"
   ]
  },
  {
   "cell_type": "code",
   "execution_count": 2,
   "id": "6724b9b2",
   "metadata": {},
   "outputs": [
    {
     "name": "stdout",
     "output_type": "stream",
     "text": [
      "[1 2 3 4 5]\n",
      "[1 6 3 4 9]\n"
     ]
    }
   ],
   "source": [
    "a = np.array([1,2,3,4,5])\n",
    "b = np.array((1,6,3,4,9))\n",
    "print(a)\n",
    "print(b)"
   ]
  },
  {
   "cell_type": "code",
   "execution_count": 3,
   "id": "f108829b",
   "metadata": {},
   "outputs": [
    {
     "name": "stdout",
     "output_type": "stream",
     "text": [
      "<class 'numpy.ndarray'>\n",
      "<class 'numpy.ndarray'>\n"
     ]
    }
   ],
   "source": [
    "print(type(a))\n",
    "print(type(b))"
   ]
  },
  {
   "cell_type": "code",
   "execution_count": 4,
   "id": "63367361",
   "metadata": {},
   "outputs": [
    {
     "data": {
      "text/plain": [
       "dtype('int32')"
      ]
     },
     "execution_count": 4,
     "metadata": {},
     "output_type": "execute_result"
    }
   ],
   "source": [
    "a.dtype"
   ]
  },
  {
   "cell_type": "code",
   "execution_count": 5,
   "id": "e1d7943c",
   "metadata": {},
   "outputs": [
    {
     "name": "stdout",
     "output_type": "stream",
     "text": [
      "[1. 2. 3. 4.]\n",
      "<class 'numpy.ndarray'>\n"
     ]
    }
   ],
   "source": [
    "c = np.array([1,2,3,4],dtype='f')\n",
    "print(c)\n",
    "print(type(c))"
   ]
  },
  {
   "cell_type": "code",
   "execution_count": 6,
   "id": "79ebb292",
   "metadata": {},
   "outputs": [
    {
     "data": {
      "text/plain": [
       "dtype('float32')"
      ]
     },
     "execution_count": 6,
     "metadata": {},
     "output_type": "execute_result"
    }
   ],
   "source": [
    "c.dtype"
   ]
  },
  {
   "cell_type": "markdown",
   "id": "fff572d7",
   "metadata": {},
   "source": [
    "### Multidimensional Array"
   ]
  },
  {
   "cell_type": "code",
   "execution_count": 7,
   "id": "0bc8c739",
   "metadata": {},
   "outputs": [
    {
     "name": "stdout",
     "output_type": "stream",
     "text": [
      "[[1 2 3]\n",
      " [4 5 6]]\n"
     ]
    }
   ],
   "source": [
    "a = np.array([[1,2,3],[4,5,6]])\n",
    "print(a)"
   ]
  },
  {
   "cell_type": "code",
   "execution_count": 8,
   "id": "26d702fa",
   "metadata": {},
   "outputs": [
    {
     "name": "stdout",
     "output_type": "stream",
     "text": [
      "2\n"
     ]
    }
   ],
   "source": [
    "print(a.ndim)"
   ]
  },
  {
   "cell_type": "code",
   "execution_count": 9,
   "id": "65a01614",
   "metadata": {},
   "outputs": [
    {
     "name": "stdout",
     "output_type": "stream",
     "text": [
      "1\n"
     ]
    }
   ],
   "source": [
    "print(c.ndim)"
   ]
  },
  {
   "cell_type": "markdown",
   "id": "86e66f15",
   "metadata": {},
   "source": [
    "#### cara mengakses elemen array yang ada didalam array"
   ]
  },
  {
   "cell_type": "markdown",
   "id": "ca37f8b0",
   "metadata": {},
   "source": [
    "##### cara 1 :"
   ]
  },
  {
   "cell_type": "code",
   "execution_count": 10,
   "id": "2da3520c",
   "metadata": {},
   "outputs": [
    {
     "name": "stdout",
     "output_type": "stream",
     "text": [
      "2\n"
     ]
    }
   ],
   "source": [
    "print(a[0][1])"
   ]
  },
  {
   "cell_type": "markdown",
   "id": "2912456a",
   "metadata": {},
   "source": [
    "##### cara 2:"
   ]
  },
  {
   "cell_type": "code",
   "execution_count": 11,
   "id": "0476149f",
   "metadata": {},
   "outputs": [
    {
     "name": "stdout",
     "output_type": "stream",
     "text": [
      "3\n"
     ]
    }
   ],
   "source": [
    "print(a[0,2])"
   ]
  },
  {
   "cell_type": "markdown",
   "id": "06ca43d5",
   "metadata": {},
   "source": [
    "#### untuk multi dimensional array , array harus punya panjang yang sama untuk array yang ada di dalam array"
   ]
  },
  {
   "cell_type": "code",
   "execution_count": 13,
   "id": "653e1e34",
   "metadata": {},
   "outputs": [
    {
     "name": "stderr",
     "output_type": "stream",
     "text": [
      "C:\\Users\\malif\\AppData\\Local\\Temp\\ipykernel_24920\\3587807535.py:1: VisibleDeprecationWarning: Creating an ndarray from ragged nested sequences (which is a list-or-tuple of lists-or-tuples-or ndarrays with different lengths or shapes) is deprecated. If you meant to do this, you must specify 'dtype=object' when creating the ndarray.\n",
      "  b = np.array([[1,2,3],[3,4,5,6]])\n"
     ]
    }
   ],
   "source": [
    "b = np.array([[1,2,3],[3,4,5,6]])"
   ]
  },
  {
   "cell_type": "code",
   "execution_count": 14,
   "id": "3854cf62",
   "metadata": {},
   "outputs": [],
   "source": [
    "b = np.array([[1,2,3,4],[3,4,5,6]])"
   ]
  },
  {
   "cell_type": "code",
   "execution_count": 15,
   "id": "15cdc9eb",
   "metadata": {},
   "outputs": [
    {
     "name": "stdout",
     "output_type": "stream",
     "text": [
      "[[1 2 3 4]\n",
      " [3 4 5 6]]\n"
     ]
    }
   ],
   "source": [
    "print(b)"
   ]
  },
  {
   "cell_type": "markdown",
   "id": "12a2f322",
   "metadata": {},
   "source": [
    "#### contoh 3 dimensional array"
   ]
  },
  {
   "cell_type": "code",
   "execution_count": 16,
   "id": "3173d6cf",
   "metadata": {},
   "outputs": [],
   "source": [
    "c = np.array([[[1,2,3],[2,3,4]],[[6,7,8],[9,10,11]]])"
   ]
  },
  {
   "cell_type": "code",
   "execution_count": 17,
   "id": "b21da967",
   "metadata": {},
   "outputs": [
    {
     "name": "stdout",
     "output_type": "stream",
     "text": [
      "[[[ 1  2  3]\n",
      "  [ 2  3  4]]\n",
      "\n",
      " [[ 6  7  8]\n",
      "  [ 9 10 11]]]\n"
     ]
    }
   ],
   "source": [
    "print(c)"
   ]
  },
  {
   "cell_type": "code",
   "execution_count": 18,
   "id": "6e2d6da6",
   "metadata": {},
   "outputs": [
    {
     "name": "stdout",
     "output_type": "stream",
     "text": [
      "3\n"
     ]
    }
   ],
   "source": [
    "print(c.ndim)"
   ]
  },
  {
   "cell_type": "code",
   "execution_count": 19,
   "id": "e0e3ca1e",
   "metadata": {},
   "outputs": [
    {
     "name": "stdout",
     "output_type": "stream",
     "text": [
      "4\n"
     ]
    }
   ],
   "source": [
    "print(c[0,1,2])"
   ]
  },
  {
   "cell_type": "markdown",
   "id": "94a7134f",
   "metadata": {},
   "source": [
    "##### tidak seperti ini"
   ]
  },
  {
   "cell_type": "code",
   "execution_count": 20,
   "id": "632799f6",
   "metadata": {},
   "outputs": [],
   "source": [
    "d = np.array([[1,2,3],[12,12,13],[10,11,99]])"
   ]
  },
  {
   "cell_type": "code",
   "execution_count": 21,
   "id": "25614611",
   "metadata": {},
   "outputs": [
    {
     "name": "stdout",
     "output_type": "stream",
     "text": [
      "[[ 1  2  3]\n",
      " [12 12 13]\n",
      " [10 11 99]]\n",
      "2\n"
     ]
    }
   ],
   "source": [
    "print(d)\n",
    "print(d.ndim)"
   ]
  },
  {
   "cell_type": "markdown",
   "id": "7527f5a5",
   "metadata": {},
   "source": [
    "#### Method Shape"
   ]
  },
  {
   "cell_type": "code",
   "execution_count": 22,
   "id": "90bf50e0",
   "metadata": {},
   "outputs": [
    {
     "data": {
      "text/plain": [
       "(2, 2, 3)"
      ]
     },
     "execution_count": 22,
     "metadata": {},
     "output_type": "execute_result"
    }
   ],
   "source": [
    "c.shape"
   ]
  },
  {
   "cell_type": "code",
   "execution_count": 26,
   "id": "5337117a",
   "metadata": {},
   "outputs": [
    {
     "name": "stdout",
     "output_type": "stream",
     "text": [
      "2\n"
     ]
    }
   ],
   "source": [
    "print(c.shape[0]) #banyak 2d array di dalam satu buah 3d array"
   ]
  },
  {
   "cell_type": "code",
   "execution_count": 25,
   "id": "64293680",
   "metadata": {},
   "outputs": [
    {
     "name": "stdout",
     "output_type": "stream",
     "text": [
      "2\n"
     ]
    }
   ],
   "source": [
    "print(c.shape[1]) #banyak 1d array di dalam satu 2d array"
   ]
  },
  {
   "cell_type": "code",
   "execution_count": 27,
   "id": "56a659f6",
   "metadata": {},
   "outputs": [
    {
     "name": "stdout",
     "output_type": "stream",
     "text": [
      "3\n"
     ]
    }
   ],
   "source": [
    "print(c.shape[2]) #banyak element di dalam satu 1d array"
   ]
  },
  {
   "cell_type": "markdown",
   "id": "af910209",
   "metadata": {},
   "source": [
    "#### Contoh 0 dimensi array"
   ]
  },
  {
   "cell_type": "code",
   "execution_count": 28,
   "id": "570cdc2d",
   "metadata": {},
   "outputs": [
    {
     "name": "stdout",
     "output_type": "stream",
     "text": [
      "1\n",
      "0\n"
     ]
    }
   ],
   "source": [
    "A = np.array([2])\n",
    "B = np.array(2)\n",
    "print(A.ndim)\n",
    "print(B.ndim)"
   ]
  },
  {
   "cell_type": "code",
   "execution_count": 29,
   "id": "659ced42",
   "metadata": {},
   "outputs": [
    {
     "name": "stdout",
     "output_type": "stream",
     "text": [
      "[2]\n",
      "2\n"
     ]
    }
   ],
   "source": [
    "print(A)\n",
    "print(B)"
   ]
  },
  {
   "cell_type": "markdown",
   "id": "5b9dd025",
   "metadata": {},
   "source": [
    "#### Method Size and Nbytes"
   ]
  },
  {
   "cell_type": "code",
   "execution_count": 35,
   "id": "4cae343c",
   "metadata": {},
   "outputs": [
    {
     "data": {
      "text/plain": [
       "12"
      ]
     },
     "execution_count": 35,
     "metadata": {},
     "output_type": "execute_result"
    }
   ],
   "source": [
    "c.size # Ukuran / Banyak Elemen di dalam array"
   ]
  },
  {
   "cell_type": "code",
   "execution_count": 34,
   "id": "f63cb4e9",
   "metadata": {},
   "outputs": [
    {
     "data": {
      "text/plain": [
       "48"
      ]
     },
     "execution_count": 34,
     "metadata": {},
     "output_type": "execute_result"
    }
   ],
   "source": [
    "c.nbytes #Total bytes consumed by the elements of the array."
   ]
  },
  {
   "cell_type": "code",
   "execution_count": 32,
   "id": "aa144690",
   "metadata": {},
   "outputs": [
    {
     "data": {
      "text/plain": [
       "9"
      ]
     },
     "execution_count": 32,
     "metadata": {},
     "output_type": "execute_result"
    }
   ],
   "source": [
    "d.size"
   ]
  },
  {
   "cell_type": "code",
   "execution_count": 33,
   "id": "c0c14c1c",
   "metadata": {},
   "outputs": [
    {
     "data": {
      "text/plain": [
       "36"
      ]
     },
     "execution_count": 33,
     "metadata": {},
     "output_type": "execute_result"
    }
   ],
   "source": [
    "d.nbytes"
   ]
  },
  {
   "cell_type": "markdown",
   "id": "b8084630",
   "metadata": {},
   "source": [
    "## Others Numpy Method"
   ]
  },
  {
   "cell_type": "markdown",
   "id": "d4f130d1",
   "metadata": {},
   "source": [
    "### np.arange()"
   ]
  },
  {
   "cell_type": "code",
   "execution_count": 36,
   "id": "08068689",
   "metadata": {},
   "outputs": [
    {
     "name": "stdout",
     "output_type": "stream",
     "text": [
      "[ 0  1  2  3  4  5  6  7  8  9 10 11 12 13 14 15 16 17 18 19 20 21 22 23\n",
      " 24 25 26 27 28 29 30 31 32 33 34 35 36 37 38 39 40 41 42 43 44 45 46 47\n",
      " 48 49 50 51 52 53 54 55 56 57 58 59 60 61 62 63 64 65 66 67 68 69 70 71\n",
      " 72 73 74 75 76 77 78 79 80 81 82 83 84 85 86 87 88 89 90 91 92 93 94 95\n",
      " 96 97 98 99]\n"
     ]
    }
   ],
   "source": [
    "A = np.arange(100)\n",
    "print(A)"
   ]
  },
  {
   "cell_type": "code",
   "execution_count": 37,
   "id": "c66fffc8",
   "metadata": {},
   "outputs": [
    {
     "name": "stdout",
     "output_type": "stream",
     "text": [
      "[ 80  81  82  83  84  85  86  87  88  89  90  91  92  93  94  95  96  97\n",
      "  98  99 100]\n"
     ]
    }
   ],
   "source": [
    "A = np.arange(80,101)\n",
    "print(A)"
   ]
  },
  {
   "cell_type": "code",
   "execution_count": 38,
   "id": "a61d27bb",
   "metadata": {},
   "outputs": [
    {
     "name": "stdout",
     "output_type": "stream",
     "text": [
      "[1 3 5 7 9]\n"
     ]
    }
   ],
   "source": [
    "A = np.arange(1,11,2)\n",
    "print(A)"
   ]
  },
  {
   "cell_type": "markdown",
   "id": "010cbc39",
   "metadata": {},
   "source": [
    "##### Mirip dengan range function , sekedar info"
   ]
  },
  {
   "cell_type": "code",
   "execution_count": 39,
   "id": "22d34895",
   "metadata": {},
   "outputs": [
    {
     "name": "stdout",
     "output_type": "stream",
     "text": [
      "range(0, 10)\n",
      "[0, 1, 2, 3, 4, 5, 6, 7, 8, 9]\n"
     ]
    }
   ],
   "source": [
    "print(range(10))\n",
    "print(list(range(10)))"
   ]
  },
  {
   "cell_type": "markdown",
   "id": "9275c44a",
   "metadata": {},
   "source": [
    "### np.random"
   ]
  },
  {
   "cell_type": "code",
   "execution_count": 40,
   "id": "d3e145fd",
   "metadata": {},
   "outputs": [
    {
     "name": "stdout",
     "output_type": "stream",
     "text": [
      "[3 5 2 0 9 6 8 1 7 4]\n"
     ]
    }
   ],
   "source": [
    "B = np.random.permutation(np.arange(10))\n",
    "print(B)"
   ]
  },
  {
   "cell_type": "markdown",
   "id": "924f8434",
   "metadata": {},
   "source": [
    "##### Same element but with shuffle order"
   ]
  },
  {
   "cell_type": "code",
   "execution_count": 41,
   "id": "457728ec",
   "metadata": {},
   "outputs": [
    {
     "name": "stdout",
     "output_type": "stream",
     "text": [
      "Help on built-in function randint:\n",
      "\n",
      "randint(...) method of numpy.random.mtrand.RandomState instance\n",
      "    randint(low, high=None, size=None, dtype=int)\n",
      "    \n",
      "    Return random integers from `low` (inclusive) to `high` (exclusive).\n",
      "    \n",
      "    Return random integers from the \"discrete uniform\" distribution of\n",
      "    the specified dtype in the \"half-open\" interval [`low`, `high`). If\n",
      "    `high` is None (the default), then results are from [0, `low`).\n",
      "    \n",
      "    .. note::\n",
      "        New code should use the ``integers`` method of a ``default_rng()``\n",
      "        instance instead; please see the :ref:`random-quick-start`.\n",
      "    \n",
      "    Parameters\n",
      "    ----------\n",
      "    low : int or array-like of ints\n",
      "        Lowest (signed) integers to be drawn from the distribution (unless\n",
      "        ``high=None``, in which case this parameter is one above the\n",
      "        *highest* such integer).\n",
      "    high : int or array-like of ints, optional\n",
      "        If provided, one above the largest (signed) integer to be drawn\n",
      "        from the distribution (see above for behavior if ``high=None``).\n",
      "        If array-like, must contain integer values\n",
      "    size : int or tuple of ints, optional\n",
      "        Output shape.  If the given shape is, e.g., ``(m, n, k)``, then\n",
      "        ``m * n * k`` samples are drawn.  Default is None, in which case a\n",
      "        single value is returned.\n",
      "    dtype : dtype, optional\n",
      "        Desired dtype of the result. Byteorder must be native.\n",
      "        The default value is int.\n",
      "    \n",
      "        .. versionadded:: 1.11.0\n",
      "    \n",
      "    Returns\n",
      "    -------\n",
      "    out : int or ndarray of ints\n",
      "        `size`-shaped array of random integers from the appropriate\n",
      "        distribution, or a single such random int if `size` not provided.\n",
      "    \n",
      "    See Also\n",
      "    --------\n",
      "    random_integers : similar to `randint`, only for the closed\n",
      "        interval [`low`, `high`], and 1 is the lowest value if `high` is\n",
      "        omitted.\n",
      "    random.Generator.integers: which should be used for new code.\n",
      "    \n",
      "    Examples\n",
      "    --------\n",
      "    >>> np.random.randint(2, size=10)\n",
      "    array([1, 0, 0, 0, 1, 1, 0, 0, 1, 0]) # random\n",
      "    >>> np.random.randint(1, size=10)\n",
      "    array([0, 0, 0, 0, 0, 0, 0, 0, 0, 0])\n",
      "    \n",
      "    Generate a 2 x 4 array of ints between 0 and 4, inclusive:\n",
      "    \n",
      "    >>> np.random.randint(5, size=(2, 4))\n",
      "    array([[4, 0, 2, 1], # random\n",
      "           [3, 2, 2, 0]])\n",
      "    \n",
      "    Generate a 1 x 3 array with 3 different upper bounds\n",
      "    \n",
      "    >>> np.random.randint(1, [3, 5, 10])\n",
      "    array([2, 2, 9]) # random\n",
      "    \n",
      "    Generate a 1 by 3 array with 3 different lower bounds\n",
      "    \n",
      "    >>> np.random.randint([1, 5, 7], 10)\n",
      "    array([9, 8, 7]) # random\n",
      "    \n",
      "    Generate a 2 by 4 array using broadcasting with dtype of uint8\n",
      "    \n",
      "    >>> np.random.randint([1, 3, 5, 7], [[10], [20]], dtype=np.uint8)\n",
      "    array([[ 8,  6,  9,  7], # random\n",
      "           [ 1, 16,  9, 12]], dtype=uint8)\n",
      "\n"
     ]
    }
   ],
   "source": [
    "help(np.random.randint)"
   ]
  },
  {
   "cell_type": "code",
   "execution_count": 44,
   "id": "4a9a3ac6",
   "metadata": {},
   "outputs": [],
   "source": [
    "v = np.random.randint(20,30)"
   ]
  },
  {
   "cell_type": "code",
   "execution_count": 45,
   "id": "4b20e98f",
   "metadata": {},
   "outputs": [
    {
     "name": "stdout",
     "output_type": "stream",
     "text": [
      "29\n"
     ]
    }
   ],
   "source": [
    "print(v)"
   ]
  },
  {
   "cell_type": "code",
   "execution_count": 1,
   "id": "742e5905",
   "metadata": {},
   "outputs": [],
   "source": [
    "import numpy as np\n",
    "A = np.random.rand(1000)"
   ]
  },
  {
   "cell_type": "code",
   "execution_count": 2,
   "id": "2204f63c",
   "metadata": {},
   "outputs": [
    {
     "name": "stdout",
     "output_type": "stream",
     "text": [
      "[8.24364190e-01 8.66433821e-01 5.03493212e-01 4.43427548e-01\n",
      " 2.12311891e-01 6.12876552e-02 2.60299338e-01 4.81913115e-01\n",
      " 5.53601016e-01 1.55098284e-01 6.17464630e-03 2.69710222e-01\n",
      " 1.66847075e-01 7.59093244e-01 8.99571292e-01 2.59794429e-01\n",
      " 4.64032365e-01 4.85034761e-01 4.95793083e-01 8.59490596e-01\n",
      " 5.85378733e-01 2.49481675e-01 3.17246476e-02 5.41656436e-01\n",
      " 3.38499051e-01 8.47586768e-01 3.84541065e-01 7.45766425e-01\n",
      " 8.36399569e-01 4.79537646e-01 9.37877076e-02 4.60074507e-01\n",
      " 1.32513233e-01 8.19720714e-01 5.43142577e-01 6.29914645e-01\n",
      " 5.96736703e-01 7.92102993e-01 2.17528468e-01 6.50244813e-01\n",
      " 9.41209087e-02 1.73866931e-01 3.67175979e-01 7.95717867e-01\n",
      " 7.24863385e-03 6.29621671e-01 2.22116458e-02 8.56754291e-01\n",
      " 9.13460473e-01 3.52448784e-01 1.86625390e-01 9.14805785e-01\n",
      " 5.53168298e-02 3.75447453e-01 9.59529422e-01 5.29088883e-01\n",
      " 4.87711222e-01 6.01336631e-01 2.36618646e-01 4.52370053e-02\n",
      " 4.15376752e-01 9.56155303e-01 7.28779932e-01 9.11593893e-01\n",
      " 4.19096214e-01 6.32837309e-01 8.02240701e-01 8.36627570e-01\n",
      " 1.52290648e-01 8.20331021e-01 7.39274708e-01 9.61748974e-01\n",
      " 1.09521401e-01 7.74757595e-03 4.28251768e-01 1.99089288e-02\n",
      " 3.98250227e-01 9.52277989e-01 5.47604783e-01 2.96836788e-01\n",
      " 3.43076711e-01 6.16321153e-01 4.40541747e-01 3.04218543e-01\n",
      " 9.38989536e-01 8.82701130e-01 2.29908249e-01 4.73719139e-01\n",
      " 1.35704500e-01 6.42359691e-01 4.25274975e-01 4.71425880e-01\n",
      " 4.65768428e-01 1.02450552e-02 7.35633485e-01 4.32802355e-01\n",
      " 9.57634916e-01 1.85742689e-01 2.87031252e-01 7.27825206e-01\n",
      " 2.38597857e-01 4.49623818e-01 2.54911885e-01 8.71128790e-01\n",
      " 4.36527597e-01 1.50772538e-01 9.57476481e-01 1.55480967e-01\n",
      " 1.10815667e-01 2.16154285e-02 4.42434133e-01 7.83455186e-01\n",
      " 9.11176502e-01 2.39815263e-01 7.87278329e-01 6.87855910e-01\n",
      " 8.35289431e-02 9.32909248e-01 9.61051782e-01 4.40383902e-02\n",
      " 1.27793566e-01 2.88398638e-01 8.50840693e-01 8.49972372e-01\n",
      " 9.12514210e-02 1.65581634e-02 3.95199559e-02 5.07962669e-02\n",
      " 7.92727489e-01 9.88557879e-01 2.87163595e-01 1.54978417e-01\n",
      " 6.00391636e-01 7.68630750e-01 4.47209009e-01 3.27689416e-02\n",
      " 6.99543475e-01 5.60484288e-01 5.80039596e-01 4.23555393e-01\n",
      " 8.39892615e-01 7.81375968e-01 3.55866108e-02 7.97631282e-01\n",
      " 5.87978874e-01 1.29668499e-01 2.07912344e-01 3.43848272e-02\n",
      " 3.84202171e-01 1.01393180e-02 4.90856963e-01 7.04746808e-01\n",
      " 2.86630272e-01 1.68698720e-01 7.13301631e-01 4.75871988e-01\n",
      " 3.14038569e-01 8.84652295e-01 7.77545969e-01 1.55238116e-01\n",
      " 6.29725472e-02 7.87553082e-01 2.91358019e-01 5.50202811e-01\n",
      " 4.39272917e-01 3.45774885e-02 4.68752879e-01 6.63985092e-01\n",
      " 2.12369614e-01 2.41945788e-01 6.03269386e-01 1.55081193e-01\n",
      " 2.19605558e-01 5.18660324e-02 4.87013572e-02 7.53846044e-01\n",
      " 9.51610723e-01 6.67387948e-01 6.98798789e-01 8.27228540e-03\n",
      " 9.73877332e-01 5.71801525e-01 3.97372091e-01 1.10597649e-01\n",
      " 4.50968842e-01 4.79656388e-01 3.47747370e-01 4.42345552e-01\n",
      " 3.50336779e-01 4.31304829e-01 4.49169869e-02 2.38649064e-01\n",
      " 6.82093158e-01 4.26891263e-02 7.47980163e-01 9.70744362e-02\n",
      " 9.91717141e-01 1.20781885e-01 7.38740435e-01 1.44197913e-02\n",
      " 6.13067564e-01 5.69137470e-01 2.65503071e-01 1.51117048e-01\n",
      " 7.97311129e-01 4.95501630e-01 3.84641647e-01 7.56234522e-01\n",
      " 2.07294685e-01 4.77210163e-01 4.18387597e-01 2.99964333e-01\n",
      " 9.23645828e-01 4.01456819e-01 1.91975653e-01 4.50466299e-01\n",
      " 1.14867927e-01 7.89527359e-01 3.68076847e-01 2.14578066e-01\n",
      " 7.40097096e-01 2.63851323e-01 7.87743691e-01 3.93303761e-01\n",
      " 8.04186073e-01 8.20205098e-01 3.97486070e-01 2.69106521e-01\n",
      " 1.74057766e-02 2.09207917e-01 4.06955943e-01 7.43099808e-01\n",
      " 9.78274298e-01 4.65921292e-01 9.10659103e-01 6.66572442e-02\n",
      " 1.93302867e-01 8.74388808e-01 4.01240336e-01 5.53118992e-01\n",
      " 3.53525188e-01 7.58078463e-01 5.77640499e-01 6.93539123e-01\n",
      " 6.61308127e-01 4.87532791e-01 4.11700616e-01 4.35045841e-01\n",
      " 8.73579644e-01 9.21774197e-01 2.50762923e-02 3.99213030e-01\n",
      " 6.87169408e-01 9.03099800e-01 3.59504519e-01 3.93475934e-01\n",
      " 3.46948290e-01 5.43781914e-01 6.44887461e-01 6.29267140e-01\n",
      " 6.65656204e-01 2.69950417e-01 9.81632367e-01 3.53679094e-01\n",
      " 8.76572466e-02 2.08834185e-02 6.88337907e-01 1.61638591e-01\n",
      " 3.74406007e-01 7.71850557e-01 7.67009638e-01 1.82581142e-01\n",
      " 5.44773855e-02 1.26218774e-01 1.88275334e-01 9.56547865e-01\n",
      " 4.39652184e-01 1.95290974e-03 6.05711521e-01 8.07124367e-01\n",
      " 3.39812818e-01 3.14589272e-01 4.12710914e-01 2.13219555e-01\n",
      " 3.68182744e-01 1.67135685e-01 4.19920850e-01 7.19140588e-01\n",
      " 5.03786991e-01 1.24690613e-01 5.72009287e-01 6.12659905e-01\n",
      " 3.54189841e-02 4.04638300e-01 4.33423174e-01 7.37253922e-01\n",
      " 7.80364124e-01 7.00612983e-01 7.78258430e-01 8.96846216e-01\n",
      " 2.42918422e-01 5.92099401e-01 3.20661688e-01 7.92589674e-01\n",
      " 8.38963535e-01 2.58263384e-01 4.96381503e-01 4.65601395e-01\n",
      " 1.63863827e-01 7.43205149e-01 4.31857652e-01 2.18332838e-01\n",
      " 6.95136164e-01 2.87562637e-01 1.91479092e-01 4.60550620e-01\n",
      " 8.22587936e-01 4.50364892e-01 6.08070604e-01 6.05333431e-01\n",
      " 5.59454393e-01 6.07377078e-02 9.97057134e-02 3.99732589e-01\n",
      " 7.45235916e-01 3.81861226e-01 6.14942935e-01 3.83838325e-01\n",
      " 3.63442030e-01 1.29020951e-01 4.07956394e-01 3.78490881e-01\n",
      " 2.21992621e-01 3.33046600e-01 2.56685725e-01 3.89447561e-01\n",
      " 7.32073413e-01 7.31098920e-01 8.84850024e-01 6.65866030e-01\n",
      " 6.07502913e-01 3.44566630e-02 1.99793102e-01 4.53386380e-01\n",
      " 6.59424977e-01 3.16828860e-03 5.79373293e-01 8.42967994e-01\n",
      " 4.69806483e-01 4.99554843e-01 2.33013101e-01 8.72215155e-01\n",
      " 8.64743828e-01 3.13034546e-01 6.27893991e-01 3.27643477e-02\n",
      " 1.40955869e-02 8.51608213e-01 5.42975561e-01 5.79773938e-01\n",
      " 1.54893063e-01 9.88191205e-01 3.31760125e-02 8.21746269e-01\n",
      " 5.00039895e-01 3.56893430e-02 2.95601084e-01 1.83554437e-01\n",
      " 8.25513779e-01 1.08143742e-01 1.72904987e-01 9.37588612e-01\n",
      " 6.20993086e-01 1.91808506e-01 5.38797508e-01 4.63894928e-01\n",
      " 8.10890191e-01 9.63091427e-01 1.42784796e-01 5.97363898e-01\n",
      " 1.67922098e-02 1.19158859e-02 8.03288551e-01 5.93286907e-01\n",
      " 3.18126491e-01 1.83776965e-01 7.40361424e-01 6.37464853e-01\n",
      " 3.53207275e-01 7.62348224e-01 3.83121925e-01 7.92786779e-02\n",
      " 1.39193005e-01 8.30734863e-01 1.57047475e-01 6.01004705e-04\n",
      " 8.29148255e-01 6.66280030e-01 9.26299619e-02 3.00142781e-01\n",
      " 4.43432255e-01 1.06420670e-01 8.98116460e-01 9.82808453e-01\n",
      " 8.19530011e-01 3.24079405e-01 9.54544917e-01 4.86064484e-01\n",
      " 8.11037342e-01 8.97624457e-01 4.26792643e-01 3.41552315e-01\n",
      " 8.61938732e-01 1.62815226e-01 6.82672999e-01 9.20867090e-01\n",
      " 4.05792074e-01 8.73102505e-02 4.92123127e-01 7.43752928e-01\n",
      " 1.07140715e-01 6.33532481e-01 2.31214367e-01 3.11494082e-01\n",
      " 9.51370348e-01 6.83107847e-01 2.34633477e-01 7.67179392e-01\n",
      " 1.05480979e-01 9.63861952e-02 9.69272392e-01 1.13005327e-01\n",
      " 5.27259324e-01 8.63707034e-01 4.48298406e-01 5.27825048e-01\n",
      " 8.48716647e-01 2.60443997e-01 2.78241857e-01 8.67120754e-01\n",
      " 4.52493057e-01 4.93767614e-01 4.67129302e-01 2.53155811e-01\n",
      " 3.61394136e-01 5.22617663e-01 8.95013839e-01 4.28168723e-01\n",
      " 1.00200703e-01 9.52867334e-01 4.73084556e-01 4.99769936e-01\n",
      " 6.71400877e-03 7.21130025e-01 8.54526786e-01 2.47058632e-01\n",
      " 8.22696686e-02 1.35372128e-01 4.66462690e-01 7.48633627e-01\n",
      " 9.44012564e-01 2.05161577e-01 8.76337067e-01 2.36068172e-01\n",
      " 2.50575035e-01 5.17778498e-01 1.58694431e-02 4.05468663e-01\n",
      " 8.00837441e-01 9.88852044e-01 2.68268874e-01 1.07782692e-01\n",
      " 7.13195712e-01 8.98087392e-01 6.91507698e-01 7.96168193e-01\n",
      " 4.66791840e-01 2.55295025e-01 5.82996435e-01 5.68600861e-01\n",
      " 6.53878297e-01 6.35376768e-02 8.57981013e-01 8.46362983e-01\n",
      " 5.18885022e-01 8.69586423e-01 5.69320295e-01 4.68487888e-01\n",
      " 2.10859035e-01 7.21485058e-01 8.32152207e-01 2.07178850e-01\n",
      " 3.75637711e-01 4.34440004e-01 4.92496814e-01 2.02093776e-01\n",
      " 3.94542319e-01 5.60480127e-01 3.42385972e-01 2.55415300e-01\n",
      " 5.53161214e-01 7.73816201e-01 5.98072105e-01 5.62272817e-01\n",
      " 7.38410549e-01 4.97850766e-01 1.20822603e-01 9.86980293e-01\n",
      " 1.89924229e-01 8.51694136e-01 6.28836672e-01 8.53087369e-02\n",
      " 2.36174402e-01 2.20786394e-01 8.42553166e-01 1.24890403e-01\n",
      " 2.44007062e-01 1.04927195e-01 4.80585719e-01 9.97213031e-01\n",
      " 6.81300527e-01 6.10078494e-01 4.39454025e-01 3.95485177e-01\n",
      " 5.50889577e-01 7.38129327e-01 4.16067293e-01 7.18485335e-01\n",
      " 1.72594088e-01 3.74808886e-02 1.00729030e-01 9.73535262e-01\n",
      " 6.99535748e-01 2.57408658e-01 4.89516176e-01 2.37073117e-01\n",
      " 4.39866981e-01 3.32525851e-01 6.69209842e-02 3.00148930e-01\n",
      " 3.09126282e-01 1.09012479e-01 8.08223491e-02 1.66107905e-01\n",
      " 3.22522862e-01 5.12044768e-01 5.79795628e-01 2.72484214e-01\n",
      " 8.37075549e-01 1.00087287e-01 3.17328418e-01 7.32737368e-01\n",
      " 7.23408107e-01 6.92615439e-01 9.37659851e-01 9.43702994e-01\n",
      " 4.74404533e-01 3.92479977e-01 9.55246524e-01 5.21143153e-01\n",
      " 6.74193394e-01 9.01610699e-01 4.84522909e-01 1.30230441e-01\n",
      " 2.51353521e-01 5.83654050e-02 5.35814348e-01 2.91156486e-01\n",
      " 9.43309945e-01 5.62578567e-01 3.67289638e-02 6.52983473e-01\n",
      " 5.82687645e-03 6.07322926e-01 9.96513894e-02 6.18323450e-01\n",
      " 9.59723464e-01 6.32884262e-01 8.82641106e-01 6.84501299e-01\n",
      " 6.89022226e-01 5.25266669e-01 6.80568252e-01 2.77615216e-01\n",
      " 8.59860444e-01 7.86367187e-01 9.55807233e-01 4.27074790e-01\n",
      " 9.84000435e-01 2.94744942e-01 4.19112289e-01 6.04784113e-01\n",
      " 1.08727507e-02 5.44790423e-01 4.73229011e-01 3.73774634e-02\n",
      " 7.60588851e-01 7.55990559e-01 6.35972626e-01 6.88782971e-01\n",
      " 6.62301656e-01 2.71398456e-01 5.60405758e-01 2.75756302e-01\n",
      " 2.07836484e-01 5.29221070e-01 8.47539929e-02 1.60089810e-02\n",
      " 8.93736538e-01 1.03995334e-01 4.64220814e-01 1.10038372e-01\n",
      " 5.58094244e-01 5.48968199e-01 1.62336058e-01 9.03509056e-01\n",
      " 6.76165229e-01 6.50148735e-02 3.07779682e-01 8.95320186e-01\n",
      " 3.56956547e-01 1.69712492e-01 8.03707600e-01 6.35264017e-01\n",
      " 1.65475266e-01 7.66933965e-01 7.19438032e-01 2.94148689e-01\n",
      " 3.82851122e-01 4.87189527e-01 6.56831944e-01 2.41563973e-01\n",
      " 9.43539905e-01 1.51218910e-01 3.53551215e-01 4.33362139e-01\n",
      " 2.98605284e-01 9.40519079e-02 8.56916794e-01 9.97946903e-01\n",
      " 6.86900181e-01 5.86649241e-01 7.86034195e-01 5.99427271e-01\n",
      " 8.47042607e-01 8.42856017e-01 5.04676223e-01 4.35659805e-01\n",
      " 8.33667157e-01 7.18212013e-01 9.44817433e-01 8.63137512e-01\n",
      " 1.00092890e-01 5.77301491e-01 1.20741167e-01 1.29097769e-01\n",
      " 7.79666021e-01 7.64554259e-02 6.55433900e-01 5.03891976e-01\n",
      " 9.18452161e-01 6.49229525e-01 2.71064196e-01 9.33348642e-01\n",
      " 7.81943162e-01 9.49680263e-01 5.26529767e-01 4.41669015e-02\n",
      " 9.32504319e-01 6.46428659e-01 7.12478286e-01 6.68355328e-01\n",
      " 6.98938321e-01 2.70258872e-01 4.11340067e-01 2.38789608e-01\n",
      " 3.59477923e-01 2.07347409e-01 3.22852388e-01 3.02999760e-01\n",
      " 4.07631526e-01 4.08541094e-01 3.66615322e-01 7.75864941e-01\n",
      " 4.84456017e-01 9.89756684e-01 6.95948539e-01 1.38028954e-01\n",
      " 1.32779863e-01 5.01710886e-01 6.41072307e-01 8.30030913e-01\n",
      " 8.30935595e-02 5.07979542e-01 5.17028300e-01 4.36697182e-01\n",
      " 6.48342415e-01 3.11277570e-01 6.39880438e-01 1.89189245e-01\n",
      " 9.31351362e-01 5.42237052e-01 9.03009674e-01 7.92200911e-01\n",
      " 4.82022351e-01 4.55126916e-01 7.91764281e-01 5.29188639e-01\n",
      " 7.45125368e-01 2.24949020e-01 1.25110165e-01 6.18589078e-01\n",
      " 4.13232980e-01 8.11436300e-01 9.94749989e-01 6.04969431e-03\n",
      " 7.52024597e-01 4.04107802e-01 8.86643304e-01 1.08123180e-01\n",
      " 5.33066400e-02 5.95993797e-01 2.21473986e-01 7.02029617e-02\n",
      " 6.84793033e-01 6.52017165e-01 5.86556336e-01 6.70001861e-01\n",
      " 9.17416535e-01 8.34732091e-01 4.58958666e-01 9.97077770e-01\n",
      " 6.11227788e-01 9.96842499e-01 4.99706225e-01 4.92572119e-01\n",
      " 2.74588172e-01 6.95303601e-01 8.06890499e-01 9.54758902e-01\n",
      " 9.75883619e-01 7.34715392e-01 8.97692209e-01 7.47125135e-01\n",
      " 2.15569574e-01 9.69325890e-01 9.40802686e-01 6.80842413e-01\n",
      " 7.82887084e-01 2.45531926e-01 6.02283828e-01 2.02625031e-01\n",
      " 3.53151468e-01 6.03736206e-01 1.06031447e-02 9.04693881e-01\n",
      " 2.65678035e-01 2.58913155e-01 9.76911664e-01 2.85509301e-01\n",
      " 3.66489232e-01 8.96634172e-01 8.80187875e-01 4.83097631e-01\n",
      " 6.61991375e-01 6.51734594e-02 9.85590255e-02 2.30644412e-01\n",
      " 2.72976669e-01 4.96481475e-01 8.43252185e-01 6.41351969e-01\n",
      " 1.19795450e-01 6.81299072e-01 8.77276830e-01 9.84205941e-01\n",
      " 8.64347076e-01 1.23044409e-01 6.23169688e-01 7.38741814e-01\n",
      " 5.49965708e-01 8.10404233e-01 8.39060168e-01 7.04681956e-01\n",
      " 7.52440046e-01 9.88156483e-01 3.99643094e-01 1.73905337e-01\n",
      " 3.86780975e-01 2.23087143e-01 8.34102983e-01 7.37181730e-01\n",
      " 3.64350829e-01 4.09838226e-01 2.72970343e-01 2.67119632e-01\n",
      " 9.49783074e-01 5.41218330e-01 5.64250700e-02 8.96656756e-01\n",
      " 9.43664337e-01 6.27962223e-01 8.24985400e-01 7.70602538e-01\n",
      " 1.68878978e-01 2.96664729e-01 6.02813637e-01 5.93802850e-01\n",
      " 8.06503883e-01 8.95218500e-01 3.78169882e-01 8.37000148e-01\n",
      " 6.74303556e-01 7.42076095e-01 3.87120047e-01 7.10537796e-01\n",
      " 3.97676374e-01 6.23636451e-02 2.28954294e-01 9.03778043e-01\n",
      " 8.57414471e-01 1.49948415e-01 3.09842676e-01 5.89783426e-01\n",
      " 2.61903174e-01 9.83765030e-01 1.95053672e-01 9.06779817e-01\n",
      " 2.53979611e-01 7.65063240e-01 5.72753851e-01 4.23603887e-01\n",
      " 8.38596834e-01 8.06420020e-01 6.44502044e-01 1.56098968e-01\n",
      " 1.66249191e-01 4.49897390e-01 6.72747524e-01 9.93594528e-01\n",
      " 7.28155537e-01 4.29262095e-01 8.00833084e-01 2.92523661e-01\n",
      " 7.44928052e-01 7.62624967e-01 3.23393425e-01 2.81403332e-01\n",
      " 8.12336095e-01 7.06312213e-01 6.07225903e-01 8.96485330e-01\n",
      " 2.89554225e-02 4.92575688e-01 8.27683076e-01 9.19025125e-01\n",
      " 1.48286676e-01 3.65199793e-01 5.32991204e-01 2.09909468e-01\n",
      " 5.21734100e-01 6.44235483e-01 6.11322749e-01 7.83527237e-01\n",
      " 7.61232867e-01 8.71408515e-01 7.06345437e-01 1.10039917e-01\n",
      " 3.83670157e-01 6.07171010e-01 7.95006252e-01 5.35560583e-01\n",
      " 2.86320512e-01 9.60428890e-01 3.01244659e-01 9.01747139e-01\n",
      " 8.59337263e-01 6.46470469e-01 7.30037457e-01 1.23784963e-01\n",
      " 5.86522972e-01 8.67557903e-01 9.01867646e-02 9.40627152e-01\n",
      " 9.36218254e-01 5.96700179e-01 9.10270020e-01 3.68452304e-01\n",
      " 8.33543521e-02 2.41436760e-01 3.33634014e-01 3.64964589e-01\n",
      " 4.84034607e-02 5.09976078e-01 2.06240906e-01 4.13126278e-02\n",
      " 6.96033439e-01 2.03402180e-01 1.29770487e-01 9.84491117e-01\n",
      " 1.02894166e-01 8.99301519e-01 5.36859440e-01 5.39092262e-01\n",
      " 2.50970434e-01 3.85729904e-01 5.47372849e-01 6.25498115e-01\n",
      " 2.20747344e-01 5.09212804e-01 8.21359984e-01 3.33521731e-02\n",
      " 2.66420673e-01 3.89325941e-01 3.43711989e-01 2.60147478e-01\n",
      " 9.46004751e-01 9.51720872e-01 1.75761823e-01 2.33657079e-01\n",
      " 3.60467437e-01 7.76661634e-01 5.70997904e-01 5.45840640e-01\n",
      " 4.68049884e-01 4.06692097e-01 1.78541385e-01 4.97703004e-01\n",
      " 6.59442622e-01 7.10832099e-01 2.81600481e-01 4.26561668e-01\n",
      " 7.09288600e-01 5.91770301e-01 5.42373793e-01 7.90890680e-01\n",
      " 9.26034922e-01 7.35888729e-01 5.80999460e-01 4.63721088e-01\n",
      " 3.48676822e-01 1.59224238e-01 4.95944454e-02 2.97699385e-01\n",
      " 7.32975234e-01 3.16203051e-01 8.98562833e-01 9.43913661e-01\n",
      " 9.23885199e-01 2.99129478e-01 5.07473580e-02 7.30913226e-02\n",
      " 2.69360476e-01 7.20374078e-01 8.32252550e-01 8.12876608e-01\n",
      " 5.21475418e-01 4.56822057e-01 2.96835829e-01 3.06808475e-01\n",
      " 4.03609885e-01 9.24310877e-01 5.19481475e-02 1.30972940e-01\n",
      " 3.94940836e-01 2.71255418e-01 5.57279531e-01 7.25747829e-01\n",
      " 6.24364874e-01 7.64198335e-01 6.17766990e-01 4.28883454e-01\n",
      " 4.47947271e-02 1.34303142e-01 9.23872993e-01 4.64818180e-01\n",
      " 1.82539767e-01 6.24807977e-01 9.36250188e-01 1.35356463e-02\n",
      " 6.15387220e-01 3.86957505e-02 7.02043463e-01 1.80314089e-02\n",
      " 6.10912896e-01 4.87168804e-01 9.45406311e-02 6.51395985e-01\n",
      " 8.34513787e-01 3.31464851e-01 9.07552723e-01 1.33015082e-01\n",
      " 7.25343351e-01 4.80156966e-01 8.71381719e-01 3.14141856e-01\n",
      " 9.73802418e-01 8.61363955e-01 1.05309739e-02 8.73219032e-01]\n"
     ]
    }
   ],
   "source": [
    "print(A)"
   ]
  },
  {
   "cell_type": "code",
   "execution_count": 9,
   "id": "bbbbe5ff",
   "metadata": {},
   "outputs": [
    {
     "name": "stdout",
     "output_type": "stream",
     "text": [
      "[0.48276575 0.18311847 0.31380877 0.78132604 0.51619968 0.75858453\n",
      " 0.93814191 0.47945889 0.90229757 0.13623307]\n"
     ]
    }
   ],
   "source": [
    "B = np.random.rand(10)#membuat 10 element array secara acak \n",
    "print(B)"
   ]
  },
  {
   "cell_type": "code",
   "execution_count": 4,
   "id": "74df8b63",
   "metadata": {},
   "outputs": [],
   "source": [
    "import matplotlib.pyplot as plt"
   ]
  },
  {
   "cell_type": "code",
   "execution_count": 5,
   "id": "fc77c09d",
   "metadata": {},
   "outputs": [
    {
     "data": {
      "text/plain": [
       "(array([103.,  92., 109.,  88., 118.,  89., 100., 105., 101.,  95.]),\n",
       " array([6.01004705e-04, 1.00335595e-01, 2.00070184e-01, 2.99804774e-01,\n",
       "        3.99539364e-01, 4.99273954e-01, 5.99008544e-01, 6.98743134e-01,\n",
       "        7.98477723e-01, 8.98212313e-01, 9.97946903e-01]),\n",
       " <BarContainer object of 10 artists>)"
      ]
     },
     "execution_count": 5,
     "metadata": {},
     "output_type": "execute_result"
    },
    {
     "data": {
      "image/png": "[encoded data removed]",
      "text/plain": [
       "<Figure size 640x480 with 1 Axes>"
      ]
     },
     "metadata": {},
     "output_type": "display_data"
    }
   ],
   "source": [
    "plt.hist(A)"
   ]
  },
  {
   "cell_type": "code",
   "execution_count": 6,
   "id": "4d64e55c",
   "metadata": {},
   "outputs": [
    {
     "data": {
      "text/plain": [
       "(array([13., 13.,  5., 16., 10.,  9., 10.,  3., 10., 14., 14.,  5., 15.,\n",
       "         9.,  3., 13., 12.,  6.,  9.,  6., 12.,  9.,  8., 13.,  8., 13.,\n",
       "        13., 12.,  9., 12.,  9., 10.,  5.,  5.,  8., 10., 12.,  5., 13.,\n",
       "        11., 14., 10., 11., 11., 10., 10., 16.,  8., 15., 13., 11.,  5.,\n",
       "        10.,  7., 12.,  8.,  7.,  8., 11., 10., 15., 12.,  8.,  9., 10.,\n",
       "         8., 11.,  5., 13.,  9., 10.,  8., 10., 13., 15.,  7., 10.,  8.,\n",
       "        12., 12., 10.,  6., 11., 13., 11., 10., 12., 10.,  6., 12., 12.,\n",
       "         7.,  9.,  8., 11., 15.,  6.,  7.,  8., 12.]),\n",
       " array([6.01004705e-04, 1.05744637e-02, 2.05479227e-02, 3.05213817e-02,\n",
       "        4.04948406e-02, 5.04682996e-02, 6.04417586e-02, 7.04152176e-02,\n",
       "        8.03886766e-02, 9.03621356e-02, 1.00335595e-01, 1.10309054e-01,\n",
       "        1.20282513e-01, 1.30255971e-01, 1.40229430e-01, 1.50202889e-01,\n",
       "        1.60176348e-01, 1.70149807e-01, 1.80123266e-01, 1.90096725e-01,\n",
       "        2.00070184e-01, 2.10043643e-01, 2.20017102e-01, 2.29990561e-01,\n",
       "        2.39964020e-01, 2.49937479e-01, 2.59910938e-01, 2.69884397e-01,\n",
       "        2.79857856e-01, 2.89831315e-01, 2.99804774e-01, 3.09778233e-01,\n",
       "        3.19751692e-01, 3.29725151e-01, 3.39698610e-01, 3.49672069e-01,\n",
       "        3.59645528e-01, 3.69618987e-01, 3.79592446e-01, 3.89565905e-01,\n",
       "        3.99539364e-01, 4.09512823e-01, 4.19486282e-01, 4.29459741e-01,\n",
       "        4.39433200e-01, 4.49406659e-01, 4.59380118e-01, 4.69353577e-01,\n",
       "        4.79327036e-01, 4.89300495e-01, 4.99273954e-01, 5.09247413e-01,\n",
       "        5.19220872e-01, 5.29194331e-01, 5.39167790e-01, 5.49141249e-01,\n",
       "        5.59114708e-01, 5.69088167e-01, 5.79061626e-01, 5.89035085e-01,\n",
       "        5.99008544e-01, 6.08982003e-01, 6.18955462e-01, 6.28928921e-01,\n",
       "        6.38902380e-01, 6.48875839e-01, 6.58849298e-01, 6.68822757e-01,\n",
       "        6.78796216e-01, 6.88769675e-01, 6.98743134e-01, 7.08716593e-01,\n",
       "        7.18690052e-01, 7.28663511e-01, 7.38636969e-01, 7.48610428e-01,\n",
       "        7.58583887e-01, 7.68557346e-01, 7.78530805e-01, 7.88504264e-01,\n",
       "        7.98477723e-01, 8.08451182e-01, 8.18424641e-01, 8.28398100e-01,\n",
       "        8.38371559e-01, 8.48345018e-01, 8.58318477e-01, 8.68291936e-01,\n",
       "        8.78265395e-01, 8.88238854e-01, 8.98212313e-01, 9.08185772e-01,\n",
       "        9.18159231e-01, 9.28132690e-01, 9.38106149e-01, 9.48079608e-01,\n",
       "        9.58053067e-01, 9.68026526e-01, 9.77999985e-01, 9.87973444e-01,\n",
       "        9.97946903e-01]),\n",
       " <BarContainer object of 100 artists>)"
      ]
     },
     "execution_count": 6,
     "metadata": {},
     "output_type": "execute_result"
    },
    {
     "data": {
      "image/png": "[encoded data removed]",
      "text/plain": [
       "<Figure size 640x480 with 1 Axes>"
      ]
     },
     "metadata": {},
     "output_type": "display_data"
    }
   ],
   "source": [
    "plt.hist(A,bins = 100)"
   ]
  },
  {
   "cell_type": "code",
   "execution_count": 7,
   "id": "bb96913d",
   "metadata": {},
   "outputs": [
    {
     "data": {
      "text/plain": [
       "(array([1., 1., 0., 1., 0., 1., 1., 1., 1., 3.]),\n",
       " array([0.00473872, 0.08760242, 0.17046612, 0.25332982, 0.33619352,\n",
       "        0.41905722, 0.50192092, 0.58478462, 0.66764832, 0.75051202,\n",
       "        0.83337572]),\n",
       " <BarContainer object of 10 artists>)"
      ]
     },
     "execution_count": 7,
     "metadata": {},
     "output_type": "execute_result"
    },
    {
     "data": {
      "image/png": "[encoded data removed]",
      "text/plain": [
       "<Figure size 640x480 with 1 Axes>"
      ]
     },
     "metadata": {},
     "output_type": "display_data"
    }
   ],
   "source": [
    "plt.hist(B)"
   ]
  },
  {
   "cell_type": "code",
   "execution_count": 10,
   "id": "32cd9b9d",
   "metadata": {},
   "outputs": [
    {
     "name": "stdout",
     "output_type": "stream",
     "text": [
      "[-1.93104461 -0.77056824 -1.02825956 ... -0.17034164  1.85572562\n",
      "  1.35377736]\n"
     ]
    }
   ],
   "source": [
    "C = np.random.randn(100000)#Return a sample (or samples) from the “standard normal” distribution.\n",
    "print(C)"
   ]
  },
  {
   "cell_type": "code",
   "execution_count": 11,
   "id": "372d5b5c",
   "metadata": {},
   "outputs": [
    {
     "data": {
      "text/plain": [
       "(array([1.000e+00, 0.000e+00, 0.000e+00, 1.000e+00, 1.000e+00, 3.000e+00,\n",
       "        1.000e+00, 2.000e+00, 1.000e+00, 1.000e+00, 2.000e+00, 2.000e+00,\n",
       "        2.000e+00, 3.000e+00, 3.000e+00, 5.000e+00, 5.000e+00, 2.000e+00,\n",
       "        1.300e+01, 1.000e+00, 1.300e+01, 3.000e+00, 8.000e+00, 1.000e+01,\n",
       "        1.000e+01, 1.800e+01, 9.000e+00, 1.700e+01, 2.100e+01, 2.000e+01,\n",
       "        2.800e+01, 3.600e+01, 3.200e+01, 4.400e+01, 4.200e+01, 4.800e+01,\n",
       "        6.100e+01, 5.700e+01, 8.000e+01, 6.700e+01, 7.500e+01, 8.200e+01,\n",
       "        1.130e+02, 1.190e+02, 1.370e+02, 1.310e+02, 1.480e+02, 1.580e+02,\n",
       "        2.160e+02, 2.020e+02, 2.330e+02, 2.510e+02, 2.410e+02, 3.030e+02,\n",
       "        3.020e+02, 3.280e+02, 3.820e+02, 4.350e+02, 4.640e+02, 4.860e+02,\n",
       "        5.100e+02, 4.980e+02, 5.630e+02, 5.850e+02, 6.210e+02, 6.790e+02,\n",
       "        7.080e+02, 7.060e+02, 8.060e+02, 8.560e+02, 8.910e+02, 9.050e+02,\n",
       "        9.410e+02, 1.029e+03, 1.064e+03, 1.116e+03, 1.118e+03, 1.162e+03,\n",
       "        1.291e+03, 1.279e+03, 1.357e+03, 1.394e+03, 1.401e+03, 1.423e+03,\n",
       "        1.518e+03, 1.434e+03, 1.535e+03, 1.603e+03, 1.570e+03, 1.689e+03,\n",
       "        1.731e+03, 1.724e+03, 1.700e+03, 1.625e+03, 1.702e+03, 1.684e+03,\n",
       "        1.737e+03, 1.703e+03, 1.683e+03, 1.725e+03, 1.665e+03, 1.682e+03,\n",
       "        1.809e+03, 1.669e+03, 1.629e+03, 1.613e+03, 1.568e+03, 1.587e+03,\n",
       "        1.524e+03, 1.490e+03, 1.502e+03, 1.446e+03, 1.314e+03, 1.337e+03,\n",
       "        1.303e+03, 1.271e+03, 1.219e+03, 1.209e+03, 1.095e+03, 1.080e+03,\n",
       "        1.033e+03, 9.990e+02, 9.460e+02, 8.740e+02, 9.300e+02, 8.190e+02,\n",
       "        7.740e+02, 7.280e+02, 6.860e+02, 6.370e+02, 6.150e+02, 5.210e+02,\n",
       "        5.460e+02, 5.050e+02, 4.650e+02, 4.550e+02, 3.900e+02, 3.630e+02,\n",
       "        3.450e+02, 3.290e+02, 3.040e+02, 2.690e+02, 2.610e+02, 2.270e+02,\n",
       "        2.110e+02, 2.020e+02, 1.850e+02, 1.640e+02, 1.590e+02, 1.290e+02,\n",
       "        1.330e+02, 1.140e+02, 1.110e+02, 8.800e+01, 8.500e+01, 7.200e+01,\n",
       "        5.700e+01, 5.700e+01, 5.700e+01, 4.900e+01, 4.700e+01, 3.900e+01,\n",
       "        3.700e+01, 2.800e+01, 1.700e+01, 2.700e+01, 1.400e+01, 2.200e+01,\n",
       "        5.000e+00, 1.900e+01, 1.300e+01, 8.000e+00, 1.500e+01, 1.200e+01,\n",
       "        8.000e+00, 5.000e+00, 3.000e+00, 1.000e+00, 8.000e+00, 2.000e+00,\n",
       "        2.000e+00, 3.000e+00, 3.000e+00, 0.000e+00, 2.000e+00, 2.000e+00,\n",
       "        2.000e+00, 0.000e+00, 1.000e+00, 1.000e+00, 1.000e+00, 0.000e+00,\n",
       "        1.000e+00, 0.000e+00, 0.000e+00, 0.000e+00, 0.000e+00, 0.000e+00,\n",
       "        0.000e+00, 1.000e+00]),\n",
       " array([-4.20005177, -4.15689941, -4.11374706, -4.0705947 , -4.02744235,\n",
       "        -3.98428999, -3.94113763, -3.89798528, -3.85483292, -3.81168057,\n",
       "        -3.76852821, -3.72537585, -3.6822235 , -3.63907114, -3.59591879,\n",
       "        -3.55276643, -3.50961407, -3.46646172, -3.42330936, -3.380157  ,\n",
       "        -3.33700465, -3.29385229, -3.25069994, -3.20754758, -3.16439522,\n",
       "        -3.12124287, -3.07809051, -3.03493816, -2.9917858 , -2.94863344,\n",
       "        -2.90548109, -2.86232873, -2.81917638, -2.77602402, -2.73287166,\n",
       "        -2.68971931, -2.64656695, -2.6034146 , -2.56026224, -2.51710988,\n",
       "        -2.47395753, -2.43080517, -2.38765282, -2.34450046, -2.3013481 ,\n",
       "        -2.25819575, -2.21504339, -2.17189104, -2.12873868, -2.08558632,\n",
       "        -2.04243397, -1.99928161, -1.95612925, -1.9129769 , -1.86982454,\n",
       "        -1.82667219, -1.78351983, -1.74036747, -1.69721512, -1.65406276,\n",
       "        -1.61091041, -1.56775805, -1.52460569, -1.48145334, -1.43830098,\n",
       "        -1.39514863, -1.35199627, -1.30884391, -1.26569156, -1.2225392 ,\n",
       "        -1.17938685, -1.13623449, -1.09308213, -1.04992978, -1.00677742,\n",
       "        -0.96362507, -0.92047271, -0.87732035, -0.834168  , -0.79101564,\n",
       "        -0.74786328, -0.70471093, -0.66155857, -0.61840622, -0.57525386,\n",
       "        -0.5321015 , -0.48894915, -0.44579679, -0.40264444, -0.35949208,\n",
       "        -0.31633972, -0.27318737, -0.23003501, -0.18688266, -0.1437303 ,\n",
       "        -0.10057794, -0.05742559, -0.01427323,  0.02887912,  0.07203148,\n",
       "         0.11518384,  0.15833619,  0.20148855,  0.2446409 ,  0.28779326,\n",
       "         0.33094562,  0.37409797,  0.41725033,  0.46040269,  0.50355504,\n",
       "         0.5467074 ,  0.58985975,  0.63301211,  0.67616447,  0.71931682,\n",
       "         0.76246918,  0.80562153,  0.84877389,  0.89192625,  0.9350786 ,\n",
       "         0.97823096,  1.02138331,  1.06453567,  1.10768803,  1.15084038,\n",
       "         1.19399274,  1.23714509,  1.28029745,  1.32344981,  1.36660216,\n",
       "         1.40975452,  1.45290687,  1.49605923,  1.53921159,  1.58236394,\n",
       "         1.6255163 ,  1.66866865,  1.71182101,  1.75497337,  1.79812572,\n",
       "         1.84127808,  1.88443044,  1.92758279,  1.97073515,  2.0138875 ,\n",
       "         2.05703986,  2.10019222,  2.14334457,  2.18649693,  2.22964928,\n",
       "         2.27280164,  2.315954  ,  2.35910635,  2.40225871,  2.44541106,\n",
       "         2.48856342,  2.53171578,  2.57486813,  2.61802049,  2.66117284,\n",
       "         2.7043252 ,  2.74747756,  2.79062991,  2.83378227,  2.87693462,\n",
       "         2.92008698,  2.96323934,  3.00639169,  3.04954405,  3.09269641,\n",
       "         3.13584876,  3.17900112,  3.22215347,  3.26530583,  3.30845819,\n",
       "         3.35161054,  3.3947629 ,  3.43791525,  3.48106761,  3.52421997,\n",
       "         3.56737232,  3.61052468,  3.65367703,  3.69682939,  3.73998175,\n",
       "         3.7831341 ,  3.82628646,  3.86943881,  3.91259117,  3.95574353,\n",
       "         3.99889588,  4.04204824,  4.08520059,  4.12835295,  4.17150531,\n",
       "         4.21465766,  4.25781002,  4.30096237,  4.34411473,  4.38726709,\n",
       "         4.43041944]),\n",
       " <BarContainer object of 200 artists>)"
      ]
     },
     "execution_count": 11,
     "metadata": {},
     "output_type": "execute_result"
    },
    {
     "data": {
      "image/png": "[encoded data removed]",
      "text/plain": [
       "<Figure size 640x480 with 1 Axes>"
      ]
     },
     "metadata": {},
     "output_type": "display_data"
    }
   ],
   "source": [
    "plt.hist(C,bins = 200)"
   ]
  },
  {
   "cell_type": "code",
   "execution_count": 13,
   "id": "1ec82cbf",
   "metadata": {},
   "outputs": [
    {
     "name": "stdout",
     "output_type": "stream",
     "text": [
      "[[0.3012231  0.26800127 0.57183462]\n",
      " [0.96775261 0.48176189 0.44723488]]\n"
     ]
    }
   ],
   "source": [
    "D = np.random.rand(2,3) # (2,3) --> menentukan dimensinya\n",
    "print(D)"
   ]
  },
  {
   "cell_type": "code",
   "execution_count": 14,
   "id": "2f151991",
   "metadata": {},
   "outputs": [
    {
     "data": {
      "text/plain": [
       "2"
      ]
     },
     "execution_count": 14,
     "metadata": {},
     "output_type": "execute_result"
    }
   ],
   "source": [
    "D.ndim"
   ]
  },
  {
   "cell_type": "code",
   "execution_count": 16,
   "id": "b860db40",
   "metadata": {},
   "outputs": [
    {
     "name": "stdout",
     "output_type": "stream",
     "text": [
      "[[[[0.21914266 0.8886554 ]\n",
      "   [0.41053175 0.69001235]\n",
      "   [0.01139197 0.43432131]\n",
      "   [0.40062734 0.71942163]]\n",
      "\n",
      "  [[0.36733306 0.55955239]\n",
      "   [0.7745511  0.51398376]\n",
      "   [0.96328663 0.47025982]\n",
      "   [0.15032815 0.8649502 ]]\n",
      "\n",
      "  [[0.78103361 0.65480468]\n",
      "   [0.55515693 0.20381805]\n",
      "   [0.72760868 0.93630708]\n",
      "   [0.90269843 0.81644043]]]\n",
      "\n",
      "\n",
      " [[[0.76875955 0.47991124]\n",
      "   [0.68391381 0.042917  ]\n",
      "   [0.64868506 0.83930588]\n",
      "   [0.02316187 0.7221541 ]]\n",
      "\n",
      "  [[0.49606704 0.06426967]\n",
      "   [0.05069655 0.59789708]\n",
      "   [0.17905623 0.13137964]\n",
      "   [0.1228625  0.26131401]]\n",
      "\n",
      "  [[0.20643016 0.98056121]\n",
      "   [0.5561603  0.53965175]\n",
      "   [0.23984053 0.21745069]\n",
      "   [0.76446989 0.30088801]]]]\n",
      "4\n"
     ]
    }
   ],
   "source": [
    "D = np.random.rand(2,3,4,2)\n",
    "print(D)\n",
    "print(D.ndim)"
   ]
  },
  {
   "cell_type": "markdown",
   "id": "5e902311",
   "metadata": {},
   "source": [
    "### np.shape"
   ]
  },
  {
   "cell_type": "code",
   "execution_count": 17,
   "id": "78fb7906",
   "metadata": {},
   "outputs": [
    {
     "name": "stdout",
     "output_type": "stream",
     "text": [
      "[ 0  1  2  3  4  5  6  7  8  9 10 11 12 13 14 15 16 17 18 19 20 21 22 23\n",
      " 24 25 26 27 28 29 30 31 32 33 34 35 36 37 38 39 40 41 42 43 44 45 46 47\n",
      " 48 49 50 51 52 53 54 55 56 57 58 59 60 61 62 63 64 65 66 67 68 69 70 71\n",
      " 72 73 74 75 76 77 78 79 80 81 82 83 84 85 86 87 88 89 90 91 92 93 94 95\n",
      " 96 97 98 99]\n"
     ]
    }
   ],
   "source": [
    "E = np.arange(100)\n",
    "print(E)"
   ]
  },
  {
   "cell_type": "code",
   "execution_count": 19,
   "id": "90f5b349",
   "metadata": {},
   "outputs": [
    {
     "name": "stdout",
     "output_type": "stream",
     "text": [
      "[[ 0  1  2  3  4  5  6  7  8  9 10 11 12 13 14 15 16 17 18 19 20 21 22 23\n",
      "  24]\n",
      " [25 26 27 28 29 30 31 32 33 34 35 36 37 38 39 40 41 42 43 44 45 46 47 48\n",
      "  49]\n",
      " [50 51 52 53 54 55 56 57 58 59 60 61 62 63 64 65 66 67 68 69 70 71 72 73\n",
      "  74]\n",
      " [75 76 77 78 79 80 81 82 83 84 85 86 87 88 89 90 91 92 93 94 95 96 97 98\n",
      "  99]]\n"
     ]
    }
   ],
   "source": [
    "E = E.reshape(4,25)\n",
    "print(E)"
   ]
  },
  {
   "cell_type": "code",
   "execution_count": 20,
   "id": "18ab280e",
   "metadata": {},
   "outputs": [
    {
     "data": {
      "text/plain": [
       "(4, 25)"
      ]
     },
     "execution_count": 20,
     "metadata": {},
     "output_type": "execute_result"
    }
   ],
   "source": [
    "E.shape"
   ]
  },
  {
   "cell_type": "code",
   "execution_count": 21,
   "id": "27720e2a",
   "metadata": {},
   "outputs": [
    {
     "data": {
      "text/plain": [
       "2"
      ]
     },
     "execution_count": 21,
     "metadata": {},
     "output_type": "execute_result"
    }
   ],
   "source": [
    "E.ndim"
   ]
  },
  {
   "cell_type": "code",
   "execution_count": 22,
   "id": "3899337a",
   "metadata": {},
   "outputs": [
    {
     "name": "stdout",
     "output_type": "stream",
     "text": [
      "[ 0  1  2  3  4  5  6  7  8  9 10 11 12 13 14 15 16 17 18 19 20 21 22 23\n",
      " 24 25 26 27 28 29 30 31 32 33 34 35 36 37 38 39 40 41 42 43 44 45 46 47\n",
      " 48 49]\n"
     ]
    }
   ],
   "source": [
    "F = np.arange(50)\n",
    "print(F)"
   ]
  },
  {
   "cell_type": "code",
   "execution_count": 23,
   "id": "4a3d7694",
   "metadata": {},
   "outputs": [
    {
     "name": "stdout",
     "output_type": "stream",
     "text": [
      "[[[ 0  1]\n",
      "  [ 2  3]\n",
      "  [ 4  5]\n",
      "  [ 6  7]\n",
      "  [ 8  9]]\n",
      "\n",
      " [[10 11]\n",
      "  [12 13]\n",
      "  [14 15]\n",
      "  [16 17]\n",
      "  [18 19]]\n",
      "\n",
      " [[20 21]\n",
      "  [22 23]\n",
      "  [24 25]\n",
      "  [26 27]\n",
      "  [28 29]]\n",
      "\n",
      " [[30 31]\n",
      "  [32 33]\n",
      "  [34 35]\n",
      "  [36 37]\n",
      "  [38 39]]\n",
      "\n",
      " [[40 41]\n",
      "  [42 43]\n",
      "  [44 45]\n",
      "  [46 47]\n",
      "  [48 49]]]\n"
     ]
    }
   ],
   "source": [
    "F = F.reshape(5,5,2)\n",
    "print(F)"
   ]
  },
  {
   "cell_type": "code",
   "execution_count": 24,
   "id": "bdca60d0",
   "metadata": {},
   "outputs": [
    {
     "data": {
      "text/plain": [
       "(5, 5, 2)"
      ]
     },
     "execution_count": 24,
     "metadata": {},
     "output_type": "execute_result"
    }
   ],
   "source": [
    "F.shape"
   ]
  },
  {
   "cell_type": "code",
   "execution_count": 25,
   "id": "366d74aa",
   "metadata": {},
   "outputs": [
    {
     "data": {
      "text/plain": [
       "3"
      ]
     },
     "execution_count": 25,
     "metadata": {},
     "output_type": "execute_result"
    }
   ],
   "source": [
    "F.ndim"
   ]
  },
  {
   "cell_type": "markdown",
   "id": "3ba909d2",
   "metadata": {},
   "source": [
    "### np.zeroes and np.ones"
   ]
  },
  {
   "cell_type": "code",
   "execution_count": 27,
   "id": "f34cff6d",
   "metadata": {},
   "outputs": [
    {
     "name": "stdout",
     "output_type": "stream",
     "text": [
      "Help on built-in function zeros in module numpy:\n",
      "\n",
      "zeros(...)\n",
      "    zeros(shape, dtype=float, order='C', *, like=None)\n",
      "    \n",
      "    Return a new array of given shape and type, filled with zeros.\n",
      "    \n",
      "    Parameters\n",
      "    ----------\n",
      "    shape : int or tuple of ints\n",
      "        Shape of the new array, e.g., ``(2, 3)`` or ``2``.\n",
      "    dtype : data-type, optional\n",
      "        The desired data-type for the array, e.g., `numpy.int8`.  Default is\n",
      "        `numpy.float64`.\n",
      "    order : {'C', 'F'}, optional, default: 'C'\n",
      "        Whether to store multi-dimensional data in row-major\n",
      "        (C-style) or column-major (Fortran-style) order in\n",
      "        memory.\n",
      "    like : array_like, optional\n",
      "        Reference object to allow the creation of arrays which are not\n",
      "        NumPy arrays. If an array-like passed in as ``like`` supports\n",
      "        the ``__array_function__`` protocol, the result will be defined\n",
      "        by it. In this case, it ensures the creation of an array object\n",
      "        compatible with that passed in via this argument.\n",
      "    \n",
      "        .. versionadded:: 1.20.0\n",
      "    \n",
      "    Returns\n",
      "    -------\n",
      "    out : ndarray\n",
      "        Array of zeros with the given shape, dtype, and order.\n",
      "    \n",
      "    See Also\n",
      "    --------\n",
      "    zeros_like : Return an array of zeros with shape and type of input.\n",
      "    empty : Return a new uninitialized array.\n",
      "    ones : Return a new array setting values to one.\n",
      "    full : Return a new array of given shape filled with value.\n",
      "    \n",
      "    Examples\n",
      "    --------\n",
      "    >>> np.zeros(5)\n",
      "    array([ 0.,  0.,  0.,  0.,  0.])\n",
      "    \n",
      "    >>> np.zeros((5,), dtype=int)\n",
      "    array([0, 0, 0, 0, 0])\n",
      "    \n",
      "    >>> np.zeros((2, 1))\n",
      "    array([[ 0.],\n",
      "           [ 0.]])\n",
      "    \n",
      "    >>> s = (2,2)\n",
      "    >>> np.zeros(s)\n",
      "    array([[ 0.,  0.],\n",
      "           [ 0.,  0.]])\n",
      "    \n",
      "    >>> np.zeros((2,), dtype=[('x', 'i4'), ('y', 'i4')]) # custom dtype\n",
      "    array([(0, 0), (0, 0)],\n",
      "          dtype=[('x', '<i4'), ('y', '<i4')])\n",
      "\n"
     ]
    }
   ],
   "source": [
    "help(np.zeros)"
   ]
  },
  {
   "cell_type": "code",
   "execution_count": 28,
   "id": "b440a8b5",
   "metadata": {},
   "outputs": [
    {
     "name": "stdout",
     "output_type": "stream",
     "text": [
      "Help on function ones in module numpy:\n",
      "\n",
      "ones(shape, dtype=None, order='C', *, like=None)\n",
      "    Return a new array of given shape and type, filled with ones.\n",
      "    \n",
      "    Parameters\n",
      "    ----------\n",
      "    shape : int or sequence of ints\n",
      "        Shape of the new array, e.g., ``(2, 3)`` or ``2``.\n",
      "    dtype : data-type, optional\n",
      "        The desired data-type for the array, e.g., `numpy.int8`.  Default is\n",
      "        `numpy.float64`.\n",
      "    order : {'C', 'F'}, optional, default: C\n",
      "        Whether to store multi-dimensional data in row-major\n",
      "        (C-style) or column-major (Fortran-style) order in\n",
      "        memory.\n",
      "    like : array_like, optional\n",
      "        Reference object to allow the creation of arrays which are not\n",
      "        NumPy arrays. If an array-like passed in as ``like`` supports\n",
      "        the ``__array_function__`` protocol, the result will be defined\n",
      "        by it. In this case, it ensures the creation of an array object\n",
      "        compatible with that passed in via this argument.\n",
      "    \n",
      "        .. versionadded:: 1.20.0\n",
      "    \n",
      "    Returns\n",
      "    -------\n",
      "    out : ndarray\n",
      "        Array of ones with the given shape, dtype, and order.\n",
      "    \n",
      "    See Also\n",
      "    --------\n",
      "    ones_like : Return an array of ones with shape and type of input.\n",
      "    empty : Return a new uninitialized array.\n",
      "    zeros : Return a new array setting values to zero.\n",
      "    full : Return a new array of given shape filled with value.\n",
      "    \n",
      "    \n",
      "    Examples\n",
      "    --------\n",
      "    >>> np.ones(5)\n",
      "    array([1., 1., 1., 1., 1.])\n",
      "    \n",
      "    >>> np.ones((5,), dtype=int)\n",
      "    array([1, 1, 1, 1, 1])\n",
      "    \n",
      "    >>> np.ones((2, 1))\n",
      "    array([[1.],\n",
      "           [1.]])\n",
      "    \n",
      "    >>> s = (2,2)\n",
      "    >>> np.ones(s)\n",
      "    array([[1.,  1.],\n",
      "           [1.,  1.]])\n",
      "\n"
     ]
    }
   ],
   "source": [
    "help(np.ones)"
   ]
  },
  {
   "cell_type": "code",
   "execution_count": 31,
   "id": "96b14f52",
   "metadata": {},
   "outputs": [
    {
     "name": "stdout",
     "output_type": "stream",
     "text": [
      "[[0 0 0 0 0]\n",
      " [0 0 0 0 0]\n",
      " [0 0 0 0 0]\n",
      " [0 0 0 0 0]\n",
      " [0 0 0 0 0]]\n"
     ]
    }
   ],
   "source": [
    "A = np.zeros((5,5),dtype = 'i')\n",
    "print(A)"
   ]
  },
  {
   "cell_type": "code",
   "execution_count": 34,
   "id": "519ad953",
   "metadata": {},
   "outputs": [
    {
     "name": "stdout",
     "output_type": "stream",
     "text": [
      "[[1 1 1]\n",
      " [1 1 1]\n",
      " [1 1 1]]\n"
     ]
    }
   ],
   "source": [
    "B = np.ones((3,3),dtype = 'i')\n",
    "print(B)"
   ]
  },
  {
   "cell_type": "markdown",
   "id": "9ba9bb9d",
   "metadata": {},
   "source": [
    "### np.hstack"
   ]
  },
  {
   "cell_type": "code",
   "execution_count": 58,
   "id": "6c3fe415",
   "metadata": {},
   "outputs": [],
   "source": [
    "a = np.round(10*np.random.rand(2,3))"
   ]
  },
  {
   "cell_type": "code",
   "execution_count": 59,
   "id": "4507f920",
   "metadata": {},
   "outputs": [
    {
     "data": {
      "text/plain": [
       "array([[ 2.,  3.,  9.],\n",
       "       [10.,  6.,  4.]])"
      ]
     },
     "execution_count": 59,
     "metadata": {},
     "output_type": "execute_result"
    }
   ],
   "source": [
    "a"
   ]
  },
  {
   "cell_type": "code",
   "execution_count": 60,
   "id": "1a22996e",
   "metadata": {},
   "outputs": [],
   "source": [
    "b = np.round(10*np.random.rand(2,2))"
   ]
  },
  {
   "cell_type": "code",
   "execution_count": 61,
   "id": "f5d9608f",
   "metadata": {},
   "outputs": [
    {
     "data": {
      "text/plain": [
       "array([[1., 4.],\n",
       "       [6., 8.]])"
      ]
     },
     "execution_count": 61,
     "metadata": {},
     "output_type": "execute_result"
    }
   ],
   "source": [
    "b"
   ]
  },
  {
   "cell_type": "code",
   "execution_count": 62,
   "id": "31eb39f7",
   "metadata": {},
   "outputs": [],
   "source": [
    "c = np.hstack((a,b))"
   ]
  },
  {
   "cell_type": "code",
   "execution_count": 63,
   "id": "b2ffbbdd",
   "metadata": {},
   "outputs": [
    {
     "data": {
      "text/plain": [
       "array([[ 2.,  3.,  9.,  1.,  4.],\n",
       "       [10.,  6.,  4.,  6.,  8.]])"
      ]
     },
     "execution_count": 63,
     "metadata": {},
     "output_type": "execute_result"
    }
   ],
   "source": [
    "c"
   ]
  },
  {
   "cell_type": "markdown",
   "id": "bf7ca3dc",
   "metadata": {},
   "source": [
    "### np.vstack --> vertical stack"
   ]
  },
  {
   "cell_type": "code",
   "execution_count": 67,
   "id": "9e010d41",
   "metadata": {},
   "outputs": [],
   "source": [
    "a = np.arange(10).reshape(2,5)"
   ]
  },
  {
   "cell_type": "code",
   "execution_count": 68,
   "id": "98611aef",
   "metadata": {},
   "outputs": [
    {
     "name": "stdout",
     "output_type": "stream",
     "text": [
      "[[0 1 2 3 4]\n",
      " [5 6 7 8 9]]\n"
     ]
    }
   ],
   "source": [
    "print(a)"
   ]
  },
  {
   "cell_type": "code",
   "execution_count": 70,
   "id": "ee589120",
   "metadata": {},
   "outputs": [],
   "source": [
    "b = np.arange(10,20).reshape(5,2)"
   ]
  },
  {
   "cell_type": "code",
   "execution_count": 71,
   "id": "0637da5e",
   "metadata": {},
   "outputs": [
    {
     "name": "stdout",
     "output_type": "stream",
     "text": [
      "[[10 11]\n",
      " [12 13]\n",
      " [14 15]\n",
      " [16 17]\n",
      " [18 19]]\n"
     ]
    }
   ],
   "source": [
    "print(b)"
   ]
  },
  {
   "cell_type": "code",
   "execution_count": 72,
   "id": "17600faf",
   "metadata": {},
   "outputs": [],
   "source": [
    "c = np.vstack((a,c))"
   ]
  },
  {
   "cell_type": "code",
   "execution_count": 75,
   "id": "8f5a804c",
   "metadata": {},
   "outputs": [
    {
     "name": "stdout",
     "output_type": "stream",
     "text": [
      "[[ 0.  1.  2.  3.  4.]\n",
      " [ 5.  6.  7.  8.  9.]\n",
      " [ 2.  3.  9.  1.  4.]\n",
      " [10.  6.  4.  6.  8.]]\n"
     ]
    }
   ],
   "source": [
    "print(c)"
   ]
  },
  {
   "cell_type": "code",
   "execution_count": 76,
   "id": "8f394f50",
   "metadata": {},
   "outputs": [
    {
     "ename": "ValueError",
     "evalue": "all the input array dimensions for the concatenation axis must match exactly, but along dimension 1, the array at index 0 has size 5 and the array at index 1 has size 2",
     "output_type": "error",
     "traceback": [
      "\u001b[1;31m---------------------------------------------------------------------------\u001b[0m",
      "\u001b[1;31mValueError\u001b[0m                                Traceback (most recent call last)",
      "Cell \u001b[1;32mIn [76], line 1\u001b[0m\n\u001b[1;32m----> 1\u001b[0m d \u001b[38;5;241m=\u001b[39m \u001b[43mnp\u001b[49m\u001b[38;5;241;43m.\u001b[39;49m\u001b[43mvstack\u001b[49m\u001b[43m(\u001b[49m\u001b[43m(\u001b[49m\u001b[43ma\u001b[49m\u001b[43m,\u001b[49m\u001b[43mb\u001b[49m\u001b[43m)\u001b[49m\u001b[43m)\u001b[49m\n",
      "File \u001b[1;32m<__array_function__ internals>:180\u001b[0m, in \u001b[0;36mvstack\u001b[1;34m(*args, **kwargs)\u001b[0m\n",
      "File \u001b[1;32m~\\AppData\\Local\\Programs\\Python\\Python310\\lib\\site-packages\\numpy\\core\\shape_base.py:282\u001b[0m, in \u001b[0;36mvstack\u001b[1;34m(tup)\u001b[0m\n\u001b[0;32m    280\u001b[0m \u001b[38;5;28;01mif\u001b[39;00m \u001b[38;5;129;01mnot\u001b[39;00m \u001b[38;5;28misinstance\u001b[39m(arrs, \u001b[38;5;28mlist\u001b[39m):\n\u001b[0;32m    281\u001b[0m     arrs \u001b[38;5;241m=\u001b[39m [arrs]\n\u001b[1;32m--> 282\u001b[0m \u001b[38;5;28;01mreturn\u001b[39;00m \u001b[43m_nx\u001b[49m\u001b[38;5;241;43m.\u001b[39;49m\u001b[43mconcatenate\u001b[49m\u001b[43m(\u001b[49m\u001b[43marrs\u001b[49m\u001b[43m,\u001b[49m\u001b[43m \u001b[49m\u001b[38;5;241;43m0\u001b[39;49m\u001b[43m)\u001b[49m\n",
      "File \u001b[1;32m<__array_function__ internals>:180\u001b[0m, in \u001b[0;36mconcatenate\u001b[1;34m(*args, **kwargs)\u001b[0m\n",
      "\u001b[1;31mValueError\u001b[0m: all the input array dimensions for the concatenation axis must match exactly, but along dimension 1, the array at index 0 has size 5 and the array at index 1 has size 2"
     ]
    }
   ],
   "source": [
    "d = np.vstack((a,b))"
   ]
  },
  {
   "cell_type": "markdown",
   "id": "388ae0f9",
   "metadata": {},
   "source": [
    "### np.sort"
   ]
  },
  {
   "cell_type": "markdown",
   "id": "183404e7",
   "metadata": {},
   "source": [
    "#### Tipe 1"
   ]
  },
  {
   "cell_type": "code",
   "execution_count": 79,
   "id": "edcee5e7",
   "metadata": {},
   "outputs": [
    {
     "name": "stdout",
     "output_type": "stream",
     "text": [
      "[ 6  8  4  7  3  2 10  5  1  9]\n"
     ]
    }
   ],
   "source": [
    "A = np.random.permutation(np.arange(1,11))\n",
    "\n",
    "print(A)"
   ]
  },
  {
   "cell_type": "code",
   "execution_count": 82,
   "id": "fb2402fd",
   "metadata": {},
   "outputs": [],
   "source": [
    "A.sort()"
   ]
  },
  {
   "cell_type": "code",
   "execution_count": 83,
   "id": "1dd25c6c",
   "metadata": {},
   "outputs": [
    {
     "name": "stdout",
     "output_type": "stream",
     "text": [
      "[ 1  2  3  4  5  6  7  8  9 10]\n"
     ]
    }
   ],
   "source": [
    "print(A)"
   ]
  },
  {
   "cell_type": "markdown",
   "id": "33ae2e10",
   "metadata": {},
   "source": [
    "#### Tipe 2"
   ]
  },
  {
   "cell_type": "code",
   "execution_count": 84,
   "id": "897a6488",
   "metadata": {},
   "outputs": [
    {
     "name": "stdout",
     "output_type": "stream",
     "text": [
      "[17 12 11 19 20 18 16 13 15 14]\n"
     ]
    }
   ],
   "source": [
    "B = np.random.permutation(np.arange(11,21))\n",
    "print(B)"
   ]
  },
  {
   "cell_type": "code",
   "execution_count": 85,
   "id": "9daec833",
   "metadata": {},
   "outputs": [
    {
     "data": {
      "text/plain": [
       "array([11, 12, 13, 14, 15, 16, 17, 18, 19, 20])"
      ]
     },
     "execution_count": 85,
     "metadata": {},
     "output_type": "execute_result"
    }
   ],
   "source": [
    "np.sort(B)"
   ]
  },
  {
   "cell_type": "markdown",
   "id": "5cfb2df1",
   "metadata": {},
   "source": [
    "#### Tipe 3"
   ]
  },
  {
   "cell_type": "code",
   "execution_count": 86,
   "id": "d358d7bb",
   "metadata": {},
   "outputs": [
    {
     "name": "stdout",
     "output_type": "stream",
     "text": [
      "[54 59 58 55 60 56 52 51 57 53]\n"
     ]
    }
   ],
   "source": [
    "C = np.random.permutation(np.arange(51,61))\n",
    "print(C)"
   ]
  },
  {
   "cell_type": "code",
   "execution_count": 87,
   "id": "7cf7689b",
   "metadata": {},
   "outputs": [],
   "source": [
    "C.sort()"
   ]
  },
  {
   "cell_type": "code",
   "execution_count": 88,
   "id": "4ec50ee6",
   "metadata": {},
   "outputs": [],
   "source": [
    "D = C[::-1]"
   ]
  },
  {
   "cell_type": "markdown",
   "id": "eb42685f",
   "metadata": {},
   "source": [
    "#### Ingat slicing tidak membuat object baru"
   ]
  },
  {
   "cell_type": "code",
   "execution_count": 89,
   "id": "de4758ec",
   "metadata": {},
   "outputs": [
    {
     "data": {
      "text/plain": [
       "array([60, 59, 58, 57, 56, 55, 54, 53, 52, 51])"
      ]
     },
     "execution_count": 89,
     "metadata": {},
     "output_type": "execute_result"
    }
   ],
   "source": [
    "D"
   ]
  },
  {
   "cell_type": "code",
   "execution_count": 90,
   "id": "7f06308c",
   "metadata": {},
   "outputs": [
    {
     "data": {
      "text/plain": [
       "array([51, 52, 53, 54, 55, 56, 57, 58, 59, 60])"
      ]
     },
     "execution_count": 90,
     "metadata": {},
     "output_type": "execute_result"
    }
   ],
   "source": [
    "C"
   ]
  },
  {
   "cell_type": "code",
   "execution_count": 91,
   "id": "185f48e3",
   "metadata": {},
   "outputs": [],
   "source": [
    "D[1] = -59"
   ]
  },
  {
   "cell_type": "code",
   "execution_count": 92,
   "id": "e0f9f353",
   "metadata": {},
   "outputs": [
    {
     "name": "stdout",
     "output_type": "stream",
     "text": [
      "[ 51  52  53  54  55  56  57  58 -59  60]\n",
      "[ 60 -59  58  57  56  55  54  53  52  51]\n"
     ]
    }
   ],
   "source": [
    "print(C)\n",
    "print(D)"
   ]
  },
  {
   "cell_type": "markdown",
   "id": "a1e67d71",
   "metadata": {},
   "source": [
    "#### Tipe 4"
   ]
  },
  {
   "cell_type": "code",
   "execution_count": 93,
   "id": "5205b0aa",
   "metadata": {},
   "outputs": [],
   "source": [
    "A = np.array(['Kurisu','Tohsaka','Asuna','Misaka'])"
   ]
  },
  {
   "cell_type": "code",
   "execution_count": 94,
   "id": "39391cfd",
   "metadata": {},
   "outputs": [],
   "source": [
    "A.sort()"
   ]
  },
  {
   "cell_type": "code",
   "execution_count": 95,
   "id": "9a488517",
   "metadata": {},
   "outputs": [
    {
     "name": "stdout",
     "output_type": "stream",
     "text": [
      "['Asuna' 'Kurisu' 'Misaka' 'Tohsaka']\n"
     ]
    }
   ],
   "source": [
    "print(A)"
   ]
  },
  {
   "cell_type": "markdown",
   "id": "6f4cc5bf",
   "metadata": {},
   "source": [
    "## Numpy Slicing"
   ]
  },
  {
   "cell_type": "markdown",
   "id": "1b225f50",
   "metadata": {},
   "source": [
    "#### Ketika kita slicing list/string maka akan muncul copy-an nya sementara kalau numpy tidak "
   ]
  },
  {
   "cell_type": "code",
   "execution_count": 35,
   "id": "84e9fb99",
   "metadata": {},
   "outputs": [],
   "source": [
    "A = np.arange(10)"
   ]
  },
  {
   "cell_type": "code",
   "execution_count": 36,
   "id": "2ff4cbf0",
   "metadata": {},
   "outputs": [
    {
     "name": "stdout",
     "output_type": "stream",
     "text": [
      "[0 1 2 3 4 5 6 7 8 9]\n",
      "[3 4 5 6 7 8 9]\n"
     ]
    }
   ],
   "source": [
    "B = A[3:10]\n",
    "print(A)\n",
    "print(B)"
   ]
  },
  {
   "cell_type": "code",
   "execution_count": 40,
   "id": "53e9ea85",
   "metadata": {},
   "outputs": [
    {
     "name": "stdout",
     "output_type": "stream",
     "text": [
      "[3, 4, 5, 6, 7, 8, 9]\n"
     ]
    }
   ],
   "source": [
    "L =[0,1,2,3,4,5,6,7,8,9]\n",
    "print(L[3:10])"
   ]
  },
  {
   "cell_type": "code",
   "execution_count": 37,
   "id": "cf2f3afc",
   "metadata": {},
   "outputs": [],
   "source": [
    "B[0] = -1"
   ]
  },
  {
   "cell_type": "code",
   "execution_count": 38,
   "id": "7be77c71",
   "metadata": {},
   "outputs": [
    {
     "name": "stdout",
     "output_type": "stream",
     "text": [
      "[ 0  1  2 -1  4  5  6  7  8  9]\n",
      "[-1  4  5  6  7  8  9]\n"
     ]
    }
   ],
   "source": [
    "print(A)\n",
    "print(B)"
   ]
  },
  {
   "cell_type": "markdown",
   "id": "823f1333",
   "metadata": {},
   "source": [
    "#### Untuk mengatasinya pakai method copy"
   ]
  },
  {
   "cell_type": "code",
   "execution_count": 39,
   "id": "18287d97",
   "metadata": {},
   "outputs": [
    {
     "name": "stdout",
     "output_type": "stream",
     "text": [
      "[-1  4  5  6  7  8  9]\n",
      "[ 0  1  2 -1  4  5  6  7  8  9]\n",
      "[-1  4  5 -2  7  8  9]\n",
      "[ 0  1  2 -1  4  5  6  7  8  9]\n"
     ]
    }
   ],
   "source": [
    "b = A[3:10].copy()\n",
    "print(b)\n",
    "print(A)\n",
    "b[3] = -2\n",
    "print(b)\n",
    "print(A)"
   ]
  },
  {
   "cell_type": "code",
   "execution_count": 41,
   "id": "ad47685e",
   "metadata": {},
   "outputs": [],
   "source": [
    "A = np.arange(20)"
   ]
  },
  {
   "cell_type": "code",
   "execution_count": 42,
   "id": "bc455dfb",
   "metadata": {},
   "outputs": [
    {
     "data": {
      "text/plain": [
       "array([19, 18, 17, 16, 15, 14, 13, 12, 11, 10,  9,  8,  7,  6,  5,  4,  3,\n",
       "        2,  1,  0])"
      ]
     },
     "execution_count": 42,
     "metadata": {},
     "output_type": "execute_result"
    }
   ],
   "source": [
    "A[::-1]"
   ]
  },
  {
   "cell_type": "code",
   "execution_count": 43,
   "id": "01e94483",
   "metadata": {},
   "outputs": [
    {
     "data": {
      "text/plain": [
       "array([19, 14,  9,  4])"
      ]
     },
     "execution_count": 43,
     "metadata": {},
     "output_type": "execute_result"
    }
   ],
   "source": [
    "A[::-5]"
   ]
  },
  {
   "cell_type": "code",
   "execution_count": 44,
   "id": "2449a1a1",
   "metadata": {},
   "outputs": [
    {
     "data": {
      "text/plain": [
       "array([ 0,  1,  2,  3,  4,  5,  6,  7,  8,  9, 10, 11, 12, 13, 14, 15, 16,\n",
       "       17, 18, 19])"
      ]
     },
     "execution_count": 44,
     "metadata": {},
     "output_type": "execute_result"
    }
   ],
   "source": [
    "A"
   ]
  },
  {
   "cell_type": "markdown",
   "id": "da1e3071",
   "metadata": {},
   "source": [
    "### Slicing Perbaris/perkolom"
   ]
  },
  {
   "cell_type": "code",
   "execution_count": 24,
   "id": "19686e09",
   "metadata": {},
   "outputs": [],
   "source": [
    "A = np.array([[1,2,3,4,5],[6,7,8,9,10],[11,12,13,14,15]])"
   ]
  },
  {
   "cell_type": "code",
   "execution_count": 25,
   "id": "a907bf32",
   "metadata": {},
   "outputs": [
    {
     "name": "stdout",
     "output_type": "stream",
     "text": [
      "[[ 1  2  3  4  5]\n",
      " [ 6  7  8  9 10]\n",
      " [11 12 13 14 15]]\n"
     ]
    }
   ],
   "source": [
    "print(A)"
   ]
  },
  {
   "cell_type": "code",
   "execution_count": 26,
   "id": "9a367bce",
   "metadata": {},
   "outputs": [
    {
     "data": {
      "text/plain": [
       "8"
      ]
     },
     "execution_count": 26,
     "metadata": {},
     "output_type": "execute_result"
    }
   ],
   "source": [
    "A[1,2]"
   ]
  },
  {
   "cell_type": "code",
   "execution_count": 27,
   "id": "125dc821",
   "metadata": {},
   "outputs": [
    {
     "data": {
      "text/plain": [
       "array([ 6,  7,  8,  9, 10])"
      ]
     },
     "execution_count": 27,
     "metadata": {},
     "output_type": "execute_result"
    }
   ],
   "source": [
    "A[1,:]"
   ]
  },
  {
   "cell_type": "code",
   "execution_count": 28,
   "id": "6aacd632",
   "metadata": {},
   "outputs": [
    {
     "data": {
      "text/plain": [
       "array([ 2,  7, 12])"
      ]
     },
     "execution_count": 28,
     "metadata": {},
     "output_type": "execute_result"
    }
   ],
   "source": [
    "A[:,1]"
   ]
  },
  {
   "cell_type": "code",
   "execution_count": 30,
   "id": "776f7fa0",
   "metadata": {},
   "outputs": [
    {
     "data": {
      "text/plain": [
       "array([[2, 3],\n",
       "       [7, 8]])"
      ]
     },
     "execution_count": 30,
     "metadata": {},
     "output_type": "execute_result"
    }
   ],
   "source": [
    "A[:2,1:3]"
   ]
  },
  {
   "cell_type": "markdown",
   "id": "d824e978",
   "metadata": {},
   "source": [
    "### Numpy (more indexing)"
   ]
  },
  {
   "cell_type": "code",
   "execution_count": 9,
   "id": "da3c67bb",
   "metadata": {},
   "outputs": [
    {
     "name": "stdout",
     "output_type": "stream",
     "text": [
      "[ 0  1  2  3  4  5  6  7  8  9 10 11 12 13 14 15 16 17 18 19 20 21 22 23\n",
      " 24 25 26 27 28 29 30 31 32 33 34 35 36 37 38 39 40 41 42 43 44 45 46 47\n",
      " 48 49 50 51 52 53 54 55 56 57 58 59 60 61 62 63 64 65 66 67 68 69 70 71\n",
      " 72 73 74 75 76 77 78 79 80 81 82 83 84 85 86 87 88 89 90 91 92 93 94 95\n",
      " 96 97 98 99]\n"
     ]
    }
   ],
   "source": [
    "A = np.arange(100)\n",
    "print(A)"
   ]
  },
  {
   "cell_type": "code",
   "execution_count": 11,
   "id": "a363389a",
   "metadata": {},
   "outputs": [],
   "source": [
    "B = A[[23,24,90]]"
   ]
  },
  {
   "cell_type": "code",
   "execution_count": 12,
   "id": "16da6bdd",
   "metadata": {},
   "outputs": [
    {
     "data": {
      "text/plain": [
       "array([23, 24, 90])"
      ]
     },
     "execution_count": 12,
     "metadata": {},
     "output_type": "execute_result"
    }
   ],
   "source": [
    "B"
   ]
  },
  {
   "cell_type": "code",
   "execution_count": 13,
   "id": "a4cc08b1",
   "metadata": {},
   "outputs": [],
   "source": [
    "B[0] = -10"
   ]
  },
  {
   "cell_type": "code",
   "execution_count": 14,
   "id": "370e2d44",
   "metadata": {},
   "outputs": [
    {
     "data": {
      "text/plain": [
       "array([ 0,  1,  2,  3,  4,  5,  6,  7,  8,  9, 10, 11, 12, 13, 14, 15, 16,\n",
       "       17, 18, 19, 20, 21, 22, 23, 24, 25, 26, 27, 28, 29, 30, 31, 32, 33,\n",
       "       34, 35, 36, 37, 38, 39, 40, 41, 42, 43, 44, 45, 46, 47, 48, 49, 50,\n",
       "       51, 52, 53, 54, 55, 56, 57, 58, 59, 60, 61, 62, 63, 64, 65, 66, 67,\n",
       "       68, 69, 70, 71, 72, 73, 74, 75, 76, 77, 78, 79, 80, 81, 82, 83, 84,\n",
       "       85, 86, 87, 88, 89, 90, 91, 92, 93, 94, 95, 96, 97, 98, 99])"
      ]
     },
     "execution_count": 14,
     "metadata": {},
     "output_type": "execute_result"
    }
   ],
   "source": [
    "A"
   ]
  },
  {
   "cell_type": "code",
   "execution_count": 15,
   "id": "cd7c0caa",
   "metadata": {},
   "outputs": [
    {
     "data": {
      "text/plain": [
       "array([-10,  24,  90])"
      ]
     },
     "execution_count": 15,
     "metadata": {},
     "output_type": "execute_result"
    }
   ],
   "source": [
    "B"
   ]
  },
  {
   "cell_type": "markdown",
   "id": "99e48ffc",
   "metadata": {},
   "source": [
    "#### Dengan Metode ini maka array akan dibuat baru sehingga jika diubah yang sesudah di potong yang lama tidak akan berubah juga"
   ]
  },
  {
   "cell_type": "code",
   "execution_count": 16,
   "id": "2880a0c1",
   "metadata": {},
   "outputs": [],
   "source": [
    "B = A[A<40]"
   ]
  },
  {
   "cell_type": "code",
   "execution_count": 17,
   "id": "ee9524c8",
   "metadata": {},
   "outputs": [
    {
     "data": {
      "text/plain": [
       "array([ 0,  1,  2,  3,  4,  5,  6,  7,  8,  9, 10, 11, 12, 13, 14, 15, 16,\n",
       "       17, 18, 19, 20, 21, 22, 23, 24, 25, 26, 27, 28, 29, 30, 31, 32, 33,\n",
       "       34, 35, 36, 37, 38, 39])"
      ]
     },
     "execution_count": 17,
     "metadata": {},
     "output_type": "execute_result"
    }
   ],
   "source": [
    "B"
   ]
  },
  {
   "cell_type": "code",
   "execution_count": 21,
   "id": "6bac510b",
   "metadata": {},
   "outputs": [],
   "source": [
    "C = A[(A<40) & (A>30)]"
   ]
  },
  {
   "cell_type": "code",
   "execution_count": 22,
   "id": "4330ee8f",
   "metadata": {},
   "outputs": [
    {
     "data": {
      "text/plain": [
       "array([31, 32, 33, 34, 35, 36, 37, 38, 39])"
      ]
     },
     "execution_count": 22,
     "metadata": {},
     "output_type": "execute_result"
    }
   ],
   "source": [
    "C"
   ]
  },
  {
   "cell_type": "code",
   "execution_count": 23,
   "id": "5aa9981d",
   "metadata": {},
   "outputs": [],
   "source": [
    "# & , and \n",
    "# | , or\n",
    "# ~ , not\n",
    "# yang sebelah kiri untuk array ,yang sebelah kanan untuk single object "
   ]
  },
  {
   "cell_type": "code",
   "execution_count": 25,
   "id": "a6b2f503",
   "metadata": {},
   "outputs": [],
   "source": [
    "D = C[[True,False,True,False,True,False,True,False,True]]"
   ]
  },
  {
   "cell_type": "code",
   "execution_count": 26,
   "id": "ae07402c",
   "metadata": {},
   "outputs": [
    {
     "data": {
      "text/plain": [
       "array([31, 33, 35, 37, 39])"
      ]
     },
     "execution_count": 26,
     "metadata": {},
     "output_type": "execute_result"
    }
   ],
   "source": [
    "D"
   ]
  },
  {
   "cell_type": "markdown",
   "id": "afdec2cf",
   "metadata": {},
   "source": [
    "## Operasi dalam Numpy "
   ]
  },
  {
   "cell_type": "markdown",
   "id": "cc51817d",
   "metadata": {},
   "source": [
    "### Cari Index"
   ]
  },
  {
   "cell_type": "code",
   "execution_count": 45,
   "id": "db65b7a9",
   "metadata": {},
   "outputs": [
    {
     "name": "stdout",
     "output_type": "stream",
     "text": [
      "[False False  True False False False False False False False False False\n",
      " False False False False False False False False]\n"
     ]
    }
   ],
   "source": [
    "B = (A == 2)\n",
    "print(B)"
   ]
  },
  {
   "cell_type": "code",
   "execution_count": 46,
   "id": "0bfc4ddf",
   "metadata": {},
   "outputs": [
    {
     "name": "stdout",
     "output_type": "stream",
     "text": [
      "[  0   1   4   9  16  25  36  49  64  81 100 121 144 169 196 225 256 289\n",
      " 324 361]\n"
     ]
    }
   ],
   "source": [
    "C = A**2\n",
    "print(C)"
   ]
  },
  {
   "cell_type": "code",
   "execution_count": 47,
   "id": "107abf62",
   "metadata": {},
   "outputs": [
    {
     "ename": "ValueError",
     "evalue": "operands could not be broadcast together with shapes (20,) (10,) ",
     "output_type": "error",
     "traceback": [
      "\u001b[1;31m---------------------------------------------------------------------------\u001b[0m",
      "\u001b[1;31mValueError\u001b[0m                                Traceback (most recent call last)",
      "Cell \u001b[1;32mIn [47], line 1\u001b[0m\n\u001b[1;32m----> 1\u001b[0m D \u001b[38;5;241m=\u001b[39m \u001b[43mA\u001b[49m\u001b[38;5;241;43m*\u001b[39;49m\u001b[43mnp\u001b[49m\u001b[38;5;241;43m.\u001b[39;49m\u001b[43marange\u001b[49m\u001b[43m(\u001b[49m\u001b[38;5;241;43m1\u001b[39;49m\u001b[43m,\u001b[49m\u001b[38;5;241;43m11\u001b[39;49m\u001b[43m)\u001b[49m\n",
      "\u001b[1;31mValueError\u001b[0m: operands could not be broadcast together with shapes (20,) (10,) "
     ]
    }
   ],
   "source": [
    "D = A*np.arange(1,11)"
   ]
  },
  {
   "cell_type": "code",
   "execution_count": 48,
   "id": "d540b4cd",
   "metadata": {},
   "outputs": [],
   "source": [
    "D = A*np.arange(1,21)"
   ]
  },
  {
   "cell_type": "code",
   "execution_count": 49,
   "id": "6d89d68e",
   "metadata": {},
   "outputs": [
    {
     "name": "stdout",
     "output_type": "stream",
     "text": [
      "[  0   2   6  12  20  30  42  56  72  90 110 132 156 182 210 240 272 306\n",
      " 342 380]\n"
     ]
    }
   ],
   "source": [
    "print(D)"
   ]
  },
  {
   "cell_type": "code",
   "execution_count": 50,
   "id": "b76a9755",
   "metadata": {},
   "outputs": [
    {
     "name": "stdout",
     "output_type": "stream",
     "text": [
      "[0 0 2 0 0 0 0 0 0 0 0 0 0 0 0 0 0 0 0 0]\n"
     ]
    }
   ],
   "source": [
    "E = B * np.arange(B.size)\n",
    "print(E)"
   ]
  },
  {
   "cell_type": "markdown",
   "id": "8a6f1797",
   "metadata": {},
   "source": [
    "#### didapat index yang True adalah 2"
   ]
  },
  {
   "cell_type": "code",
   "execution_count": 51,
   "id": "a59e2f3b",
   "metadata": {},
   "outputs": [
    {
     "data": {
      "text/plain": [
       "20"
      ]
     },
     "execution_count": 51,
     "metadata": {},
     "output_type": "execute_result"
    }
   ],
   "source": [
    "B.size"
   ]
  },
  {
   "cell_type": "markdown",
   "id": "29590f27",
   "metadata": {},
   "source": [
    "#### cara lain cari index"
   ]
  },
  {
   "cell_type": "code",
   "execution_count": 2,
   "id": "896ab9c5",
   "metadata": {},
   "outputs": [
    {
     "name": "stdout",
     "output_type": "stream",
     "text": [
      "[ 0  1  2  3  4  5  6  7  8  9 10 11 12 13 14 15 16 17 18 19]\n"
     ]
    }
   ],
   "source": [
    "import numpy as np\n",
    "\n",
    "A = np.arange(20)\n",
    "print(A)"
   ]
  },
  {
   "cell_type": "code",
   "execution_count": 4,
   "id": "f5d5721d",
   "metadata": {},
   "outputs": [
    {
     "name": "stdout",
     "output_type": "stream",
     "text": [
      "[[7]]\n"
     ]
    }
   ],
   "source": [
    "idx = np.argwhere(A == 7 )\n",
    "print(idx)"
   ]
  },
  {
   "cell_type": "code",
   "execution_count": 5,
   "id": "8d2a7e5e",
   "metadata": {},
   "outputs": [
    {
     "name": "stdout",
     "output_type": "stream",
     "text": [
      "7\n"
     ]
    }
   ],
   "source": [
    "idx = idx[0][0]\n",
    "print(idx)"
   ]
  },
  {
   "cell_type": "code",
   "execution_count": 6,
   "id": "e00a89eb",
   "metadata": {},
   "outputs": [
    {
     "data": {
      "text/plain": [
       "7"
      ]
     },
     "execution_count": 6,
     "metadata": {},
     "output_type": "execute_result"
    }
   ],
   "source": [
    "A[idx]"
   ]
  },
  {
   "cell_type": "markdown",
   "id": "a46ce051",
   "metadata": {},
   "source": [
    "### Cara membuat array int random"
   ]
  },
  {
   "cell_type": "code",
   "execution_count": 12,
   "id": "9bea6149",
   "metadata": {},
   "outputs": [],
   "source": [
    "A = np.round(10*np.random.rand(5,4))"
   ]
  },
  {
   "cell_type": "code",
   "execution_count": 8,
   "id": "887f34bf",
   "metadata": {},
   "outputs": [
    {
     "name": "stdout",
     "output_type": "stream",
     "text": [
      "[[ 6.  6.  4.  3.]\n",
      " [10.  3.  3.  3.]\n",
      " [ 4.  3.  9.  6.]\n",
      " [10.  4.  6.  6.]\n",
      " [ 9.  1.  7.  2.]]\n"
     ]
    }
   ],
   "source": [
    "print(A)"
   ]
  },
  {
   "cell_type": "markdown",
   "id": "3af253dc",
   "metadata": {},
   "source": [
    "### Transpose Matrix"
   ]
  },
  {
   "cell_type": "code",
   "execution_count": 31,
   "id": "09506eb4",
   "metadata": {},
   "outputs": [],
   "source": [
    "A= np.arange(20).reshape(4,5)"
   ]
  },
  {
   "cell_type": "code",
   "execution_count": 32,
   "id": "2f6a27a2",
   "metadata": {},
   "outputs": [
    {
     "name": "stdout",
     "output_type": "stream",
     "text": [
      "[[ 0  1  2  3  4]\n",
      " [ 5  6  7  8  9]\n",
      " [10 11 12 13 14]\n",
      " [15 16 17 18 19]]\n"
     ]
    }
   ],
   "source": [
    "print(A)"
   ]
  },
  {
   "cell_type": "code",
   "execution_count": 33,
   "id": "d4175fa9",
   "metadata": {},
   "outputs": [
    {
     "data": {
      "text/plain": [
       "array([[ 0,  5, 10, 15],\n",
       "       [ 1,  6, 11, 16],\n",
       "       [ 2,  7, 12, 17],\n",
       "       [ 3,  8, 13, 18],\n",
       "       [ 4,  9, 14, 19]])"
      ]
     },
     "execution_count": 33,
     "metadata": {},
     "output_type": "execute_result"
    }
   ],
   "source": [
    "A.T"
   ]
  },
  {
   "cell_type": "markdown",
   "id": "223f3c53",
   "metadata": {},
   "source": [
    "### Invers Matrix"
   ]
  },
  {
   "cell_type": "code",
   "execution_count": 34,
   "id": "9af3fe3f",
   "metadata": {},
   "outputs": [],
   "source": [
    "import numpy.linalg as la"
   ]
  },
  {
   "cell_type": "code",
   "execution_count": 41,
   "id": "44dd3aff",
   "metadata": {},
   "outputs": [
    {
     "name": "stdout",
     "output_type": "stream",
     "text": [
      "[[ 1  2  3  4]\n",
      " [ 5  6  7  8]\n",
      " [ 9 10 11 12]\n",
      " [13 14 15 16]]\n"
     ]
    }
   ],
   "source": [
    "A = np.arange(1,17).reshape(4,4)\n",
    "print(A)"
   ]
  },
  {
   "cell_type": "code",
   "execution_count": 42,
   "id": "a39e673b",
   "metadata": {},
   "outputs": [
    {
     "ename": "LinAlgError",
     "evalue": "Singular matrix",
     "output_type": "error",
     "traceback": [
      "\u001b[1;31m---------------------------------------------------------------------------\u001b[0m",
      "\u001b[1;31mLinAlgError\u001b[0m                               Traceback (most recent call last)",
      "Cell \u001b[1;32mIn [42], line 1\u001b[0m\n\u001b[1;32m----> 1\u001b[0m \u001b[43mla\u001b[49m\u001b[38;5;241;43m.\u001b[39;49m\u001b[43minv\u001b[49m\u001b[43m(\u001b[49m\u001b[43mA\u001b[49m\u001b[43m)\u001b[49m\n",
      "File \u001b[1;32m<__array_function__ internals>:180\u001b[0m, in \u001b[0;36minv\u001b[1;34m(*args, **kwargs)\u001b[0m\n",
      "File \u001b[1;32m~\\AppData\\Local\\Programs\\Python\\Python310\\lib\\site-packages\\numpy\\linalg\\linalg.py:552\u001b[0m, in \u001b[0;36minv\u001b[1;34m(a)\u001b[0m\n\u001b[0;32m    550\u001b[0m signature \u001b[38;5;241m=\u001b[39m \u001b[38;5;124m'\u001b[39m\u001b[38;5;124mD->D\u001b[39m\u001b[38;5;124m'\u001b[39m \u001b[38;5;28;01mif\u001b[39;00m isComplexType(t) \u001b[38;5;28;01melse\u001b[39;00m \u001b[38;5;124m'\u001b[39m\u001b[38;5;124md->d\u001b[39m\u001b[38;5;124m'\u001b[39m\n\u001b[0;32m    551\u001b[0m extobj \u001b[38;5;241m=\u001b[39m get_linalg_error_extobj(_raise_linalgerror_singular)\n\u001b[1;32m--> 552\u001b[0m ainv \u001b[38;5;241m=\u001b[39m \u001b[43m_umath_linalg\u001b[49m\u001b[38;5;241;43m.\u001b[39;49m\u001b[43minv\u001b[49m\u001b[43m(\u001b[49m\u001b[43ma\u001b[49m\u001b[43m,\u001b[49m\u001b[43m \u001b[49m\u001b[43msignature\u001b[49m\u001b[38;5;241;43m=\u001b[39;49m\u001b[43msignature\u001b[49m\u001b[43m,\u001b[49m\u001b[43m \u001b[49m\u001b[43mextobj\u001b[49m\u001b[38;5;241;43m=\u001b[39;49m\u001b[43mextobj\u001b[49m\u001b[43m)\u001b[49m\n\u001b[0;32m    553\u001b[0m \u001b[38;5;28;01mreturn\u001b[39;00m wrap(ainv\u001b[38;5;241m.\u001b[39mastype(result_t, copy\u001b[38;5;241m=\u001b[39m\u001b[38;5;28;01mFalse\u001b[39;00m))\n",
      "File \u001b[1;32m~\\AppData\\Local\\Programs\\Python\\Python310\\lib\\site-packages\\numpy\\linalg\\linalg.py:89\u001b[0m, in \u001b[0;36m_raise_linalgerror_singular\u001b[1;34m(err, flag)\u001b[0m\n\u001b[0;32m     88\u001b[0m \u001b[38;5;28;01mdef\u001b[39;00m \u001b[38;5;21m_raise_linalgerror_singular\u001b[39m(err, flag):\n\u001b[1;32m---> 89\u001b[0m     \u001b[38;5;28;01mraise\u001b[39;00m LinAlgError(\u001b[38;5;124m\"\u001b[39m\u001b[38;5;124mSingular matrix\u001b[39m\u001b[38;5;124m\"\u001b[39m)\n",
      "\u001b[1;31mLinAlgError\u001b[0m: Singular matrix"
     ]
    }
   ],
   "source": [
    "la.inv(A)"
   ]
  },
  {
   "cell_type": "markdown",
   "id": "4739e943",
   "metadata": {},
   "source": [
    "tidak bisa karena determinan nya sama dengan 0"
   ]
  },
  {
   "cell_type": "code",
   "execution_count": 44,
   "id": "1277bb91",
   "metadata": {},
   "outputs": [
    {
     "data": {
      "text/plain": [
       "array([[ 1.66666667, -1.        ],\n",
       "       [ 1.33333333, -1.        ]])"
      ]
     },
     "execution_count": 44,
     "metadata": {},
     "output_type": "execute_result"
    }
   ],
   "source": [
    "la.inv(np.array([[3,-3],[4,-5]]))"
   ]
  },
  {
   "cell_type": "markdown",
   "id": "62323742",
   "metadata": {},
   "source": [
    "### Sort"
   ]
  },
  {
   "cell_type": "markdown",
   "id": "bacd099b",
   "metadata": {},
   "source": [
    "#### Mengurutkan berdasarkan kolom"
   ]
  },
  {
   "cell_type": "code",
   "execution_count": 48,
   "id": "01b6a9d6",
   "metadata": {},
   "outputs": [],
   "source": [
    "A = np.round(10*np.random.rand(5,4))"
   ]
  },
  {
   "cell_type": "code",
   "execution_count": 50,
   "id": "7470d8b0",
   "metadata": {},
   "outputs": [],
   "source": [
    "A.sort(axis = 0)"
   ]
  },
  {
   "cell_type": "code",
   "execution_count": 51,
   "id": "c8dc6f9f",
   "metadata": {},
   "outputs": [
    {
     "data": {
      "text/plain": [
       "array([[ 0.,  1.,  0.,  0.],\n",
       "       [ 1.,  2.,  2.,  1.],\n",
       "       [ 3.,  7.,  3.,  5.],\n",
       "       [ 4.,  7.,  4.,  5.],\n",
       "       [ 5.,  9., 10.,  5.]])"
      ]
     },
     "execution_count": 51,
     "metadata": {},
     "output_type": "execute_result"
    }
   ],
   "source": [
    "A"
   ]
  },
  {
   "cell_type": "markdown",
   "id": "0e0ac9cc",
   "metadata": {},
   "source": [
    "#### Mengurutkan berdasarkan baris"
   ]
  },
  {
   "cell_type": "code",
   "execution_count": 52,
   "id": "ad7c0eab",
   "metadata": {},
   "outputs": [],
   "source": [
    "A.sort(axis=1)"
   ]
  },
  {
   "cell_type": "code",
   "execution_count": 53,
   "id": "0d1051b2",
   "metadata": {},
   "outputs": [
    {
     "data": {
      "text/plain": [
       "array([[ 0.,  0.,  0.,  1.],\n",
       "       [ 1.,  1.,  2.,  2.],\n",
       "       [ 3.,  3.,  5.,  7.],\n",
       "       [ 4.,  4.,  5.,  7.],\n",
       "       [ 5.,  5.,  9., 10.]])"
      ]
     },
     "execution_count": 53,
     "metadata": {},
     "output_type": "execute_result"
    }
   ],
   "source": [
    "A"
   ]
  },
  {
   "cell_type": "markdown",
   "id": "a13d8251",
   "metadata": {},
   "source": [
    "## Numpy Broadcasting"
   ]
  },
  {
   "cell_type": "markdown",
   "id": "4dcfeb4a",
   "metadata": {},
   "source": [
    "#### Seperti fitur auto completion"
   ]
  },
  {
   "cell_type": "markdown",
   "id": "aa52de79",
   "metadata": {},
   "source": [
    "### Tipe 1"
   ]
  },
  {
   "cell_type": "code",
   "execution_count": 35,
   "id": "1560dd7a",
   "metadata": {},
   "outputs": [],
   "source": [
    "A = np.array([[2,3],[5,9]])"
   ]
  },
  {
   "cell_type": "code",
   "execution_count": 36,
   "id": "59a4b1ef",
   "metadata": {},
   "outputs": [
    {
     "data": {
      "text/plain": [
       "array([[2, 3],\n",
       "       [5, 9]])"
      ]
     },
     "execution_count": 36,
     "metadata": {},
     "output_type": "execute_result"
    }
   ],
   "source": [
    "A"
   ]
  },
  {
   "cell_type": "code",
   "execution_count": 37,
   "id": "b4467560",
   "metadata": {},
   "outputs": [],
   "source": [
    "A = A + 5 \n",
    "# Sama artinya dengan \n",
    "#A = 2 3 + 5 5\n",
    "#    5 9   5 5\n",
    "# Jadi array akan langsung terduplikasi"
   ]
  },
  {
   "cell_type": "code",
   "execution_count": 38,
   "id": "d203afff",
   "metadata": {},
   "outputs": [
    {
     "data": {
      "text/plain": [
       "array([[ 7,  8],\n",
       "       [10, 14]])"
      ]
     },
     "execution_count": 38,
     "metadata": {},
     "output_type": "execute_result"
    }
   ],
   "source": [
    "A"
   ]
  },
  {
   "cell_type": "markdown",
   "id": "ce8d721d",
   "metadata": {},
   "source": [
    "### Tipe 2"
   ]
  },
  {
   "cell_type": "code",
   "execution_count": 39,
   "id": "737a4058",
   "metadata": {},
   "outputs": [
    {
     "name": "stdout",
     "output_type": "stream",
     "text": [
      "[[1 2]\n",
      " [3 4]]\n"
     ]
    }
   ],
   "source": [
    "A = np.array([[1,2],[3,4]])\n",
    "print(A)"
   ]
  },
  {
   "cell_type": "code",
   "execution_count": 41,
   "id": "97816818",
   "metadata": {},
   "outputs": [],
   "source": [
    "A = A + [1,3]"
   ]
  },
  {
   "cell_type": "code",
   "execution_count": 42,
   "id": "cc013d51",
   "metadata": {},
   "outputs": [
    {
     "data": {
      "text/plain": [
       "array([[2, 5],\n",
       "       [4, 7]])"
      ]
     },
     "execution_count": 42,
     "metadata": {},
     "output_type": "execute_result"
    }
   ],
   "source": [
    "A"
   ]
  },
  {
   "cell_type": "code",
   "execution_count": 43,
   "id": "a8ddd799",
   "metadata": {},
   "outputs": [],
   "source": [
    "A = np.array([[1,2],[3,4]])"
   ]
  },
  {
   "cell_type": "code",
   "execution_count": 44,
   "id": "388c2d55",
   "metadata": {},
   "outputs": [],
   "source": [
    "A = A + np.array([1,3])"
   ]
  },
  {
   "cell_type": "code",
   "execution_count": 45,
   "id": "25fb9f10",
   "metadata": {},
   "outputs": [
    {
     "name": "stdout",
     "output_type": "stream",
     "text": [
      "[[2 5]\n",
      " [4 7]]\n"
     ]
    }
   ],
   "source": [
    "print(A)"
   ]
  },
  {
   "cell_type": "code",
   "execution_count": 53,
   "id": "ab07d091",
   "metadata": {},
   "outputs": [],
   "source": [
    "# sama halnya dengan\n",
    "# A = 1 2 + 1 3\n",
    "#     3 4   1 3"
   ]
  },
  {
   "cell_type": "markdown",
   "id": "9a24914e",
   "metadata": {},
   "source": [
    "### Tipe 3"
   ]
  },
  {
   "cell_type": "code",
   "execution_count": 49,
   "id": "1437e1da",
   "metadata": {},
   "outputs": [],
   "source": [
    "A = np.array([[1,2],[3,4]])"
   ]
  },
  {
   "cell_type": "code",
   "execution_count": 50,
   "id": "247740c1",
   "metadata": {},
   "outputs": [
    {
     "name": "stdout",
     "output_type": "stream",
     "text": [
      "[[1 2]\n",
      " [3 4]]\n"
     ]
    }
   ],
   "source": [
    "print(A)"
   ]
  },
  {
   "cell_type": "code",
   "execution_count": 51,
   "id": "53d628fb",
   "metadata": {},
   "outputs": [],
   "source": [
    "A = A + [[1],[3]]"
   ]
  },
  {
   "cell_type": "code",
   "execution_count": 52,
   "id": "20b45ba4",
   "metadata": {},
   "outputs": [
    {
     "name": "stdout",
     "output_type": "stream",
     "text": [
      "[[2 3]\n",
      " [6 7]]\n"
     ]
    }
   ],
   "source": [
    "print(A)"
   ]
  },
  {
   "cell_type": "code",
   "execution_count": 55,
   "id": "71b79a61",
   "metadata": {},
   "outputs": [],
   "source": [
    "# sama halnya dengan\n",
    "# A = 1 2 + 1 1\n",
    "#     3 4   3 3"
   ]
  },
  {
   "cell_type": "markdown",
   "id": "f7bfea1b",
   "metadata": {},
   "source": [
    "### Tipe 4"
   ]
  },
  {
   "cell_type": "code",
   "execution_count": 56,
   "id": "200a6ad8",
   "metadata": {},
   "outputs": [
    {
     "name": "stdout",
     "output_type": "stream",
     "text": [
      "[[2 3 9]\n",
      " [1 2 3]]\n"
     ]
    }
   ],
   "source": [
    "A = np.array([[2,3,9],[1,2,3]])\n",
    "print(A)"
   ]
  },
  {
   "cell_type": "code",
   "execution_count": 57,
   "id": "c8e275f8",
   "metadata": {},
   "outputs": [
    {
     "ename": "ValueError",
     "evalue": "operands could not be broadcast together with shapes (2,3) (2,2) ",
     "output_type": "error",
     "traceback": [
      "\u001b[1;31m---------------------------------------------------------------------------\u001b[0m",
      "\u001b[1;31mValueError\u001b[0m                                Traceback (most recent call last)",
      "Cell \u001b[1;32mIn [57], line 1\u001b[0m\n\u001b[1;32m----> 1\u001b[0m A \u001b[38;5;241m=\u001b[39m \u001b[43mA\u001b[49m\u001b[43m \u001b[49m\u001b[38;5;241;43m+\u001b[39;49m\u001b[43m \u001b[49m\u001b[43m[\u001b[49m\u001b[43m[\u001b[49m\u001b[38;5;241;43m2\u001b[39;49m\u001b[43m,\u001b[49m\u001b[38;5;241;43m1\u001b[39;49m\u001b[43m]\u001b[49m\u001b[43m,\u001b[49m\u001b[43m[\u001b[49m\u001b[38;5;241;43m6\u001b[39;49m\u001b[43m,\u001b[49m\u001b[38;5;241;43m2\u001b[39;49m\u001b[43m]\u001b[49m\u001b[43m]\u001b[49m\n",
      "\u001b[1;31mValueError\u001b[0m: operands could not be broadcast together with shapes (2,3) (2,2) "
     ]
    }
   ],
   "source": [
    "A = A + [[2,1],[6,2]]"
   ]
  },
  {
   "cell_type": "markdown",
   "id": "1a2a715b",
   "metadata": {},
   "source": [
    "#### Tipe yang ini tidak bisa terjadi karena shape-nya yang berbeda"
   ]
  },
  {
   "cell_type": "markdown",
   "id": "e08db2c2",
   "metadata": {},
   "source": [
    "## Numpy Speed"
   ]
  },
  {
   "cell_type": "code",
   "execution_count": 4,
   "id": "7be7967f",
   "metadata": {},
   "outputs": [
    {
     "name": "stdout",
     "output_type": "stream",
     "text": [
      "57.4 ms ± 304 µs per loop (mean ± std. dev. of 7 runs, 10 loops each)\n",
      "541 µs ± 21.2 µs per loop (mean ± std. dev. of 7 runs, 1,000 loops each)\n"
     ]
    }
   ],
   "source": [
    "import numpy as np\n",
    "\n",
    "b = np.random.rand(1000000)\n",
    "%timeit sum(b)\n",
    "%timeit np.sum(b) # sama aja dengan b.sum()"
   ]
  },
  {
   "cell_type": "code",
   "execution_count": 5,
   "id": "65386987",
   "metadata": {},
   "outputs": [],
   "source": [
    "def my_sum(num):\n",
    "    sum = 0\n",
    "    for i in num :\n",
    "        sum += i\n",
    "    return sum"
   ]
  },
  {
   "cell_type": "code",
   "execution_count": 6,
   "id": "fa77ce09",
   "metadata": {},
   "outputs": [
    {
     "name": "stdout",
     "output_type": "stream",
     "text": [
      "76.5 ms ± 1.22 ms per loop (mean ± std. dev. of 7 runs, 10 loops each)\n"
     ]
    }
   ],
   "source": [
    "%timeit my_sum(b)"
   ]
  },
  {
   "cell_type": "markdown",
   "id": "7dff2af4",
   "metadata": {},
   "source": [
    "## Tambahan"
   ]
  },
  {
   "cell_type": "markdown",
   "id": "d6bbcb34",
   "metadata": {},
   "source": [
    "### np.dot"
   ]
  },
  {
   "cell_type": "code",
   "execution_count": 5,
   "id": "c7d45923",
   "metadata": {},
   "outputs": [
    {
     "name": "stdout",
     "output_type": "stream",
     "text": [
      "[10  9  8]\n",
      "[0.5 0.3 0.2]\n"
     ]
    }
   ],
   "source": [
    "import numpy as np\n",
    "lst1 = [10,9,8]\n",
    "lst2 = [0.5,0.3,0.2]\n",
    "arr1 = np.array(lst1)\n",
    "arr2 = np.array(lst2)\n",
    "print(arr1)\n",
    "print(arr2)"
   ]
  },
  {
   "cell_type": "code",
   "execution_count": 6,
   "id": "1342f7cc",
   "metadata": {},
   "outputs": [
    {
     "data": {
      "text/plain": [
       "9.299999999999999"
      ]
     },
     "execution_count": 6,
     "metadata": {},
     "output_type": "execute_result"
    }
   ],
   "source": [
    "np.dot(arr1,arr2)"
   ]
  },
  {
   "cell_type": "markdown",
   "id": "b0fe1ce7",
   "metadata": {},
   "source": [
    "10 * 0.5 + 9 * 0.3 + 8 * 0.2"
   ]
  },
  {
   "cell_type": "markdown",
   "id": "d87c6886",
   "metadata": {},
   "source": [
    "5 + 2.7 + 1.6 = 9.3"
   ]
  },
  {
   "cell_type": "markdown",
   "id": "c31a0e4c",
   "metadata": {},
   "source": [
    "## method sum"
   ]
  },
  {
   "cell_type": "code",
   "execution_count": 7,
   "id": "715fbefa",
   "metadata": {},
   "outputs": [
    {
     "data": {
      "text/plain": [
       "9.299999999999999"
      ]
     },
     "execution_count": 7,
     "metadata": {},
     "output_type": "execute_result"
    }
   ],
   "source": [
    "(arr1 * arr2).sum()"
   ]
  },
  {
   "cell_type": "markdown",
   "id": "d6b00591",
   "metadata": {},
   "source": [
    "### another example of multidimensional array"
   ]
  },
  {
   "cell_type": "code",
   "execution_count": 8,
   "id": "a41fcfc7",
   "metadata": {},
   "outputs": [
    {
     "data": {
      "text/plain": [
       "array([[[ 1,  2,  3],\n",
       "        [ 4,  5,  6],\n",
       "        [ 7,  8,  9]],\n",
       "\n",
       "       [[10, 11, 12],\n",
       "        [13, 14, 15],\n",
       "        [16, 17, 18]]])"
      ]
     },
     "execution_count": 8,
     "metadata": {},
     "output_type": "execute_result"
    }
   ],
   "source": [
    "np.array([[[1,2,3],\n",
    "         [4,5,6],\n",
    "         [7,8,9]],\n",
    "         [[10,11,12],\n",
    "         [13,14,15],\n",
    "         [16,17,18]]])"
   ]
  },
  {
   "cell_type": "code",
   "execution_count": 9,
   "id": "a032d125",
   "metadata": {},
   "outputs": [
    {
     "ename": "TypeError",
     "evalue": "Field elements must be 2- or 3-tuples, got '2'",
     "output_type": "error",
     "traceback": [
      "\u001b[1;31m---------------------------------------------------------------------------\u001b[0m",
      "\u001b[1;31mTypeError\u001b[0m                                 Traceback (most recent call last)",
      "Cell \u001b[1;32mIn [9], line 1\u001b[0m\n\u001b[1;32m----> 1\u001b[0m \u001b[43mnp\u001b[49m\u001b[38;5;241;43m.\u001b[39;49m\u001b[43marray\u001b[49m\u001b[43m(\u001b[49m\u001b[43m[\u001b[49m\u001b[38;5;241;43m1\u001b[39;49m\u001b[43m,\u001b[49m\u001b[38;5;241;43m2\u001b[39;49m\u001b[43m,\u001b[49m\u001b[38;5;241;43m3\u001b[39;49m\u001b[43m]\u001b[49m\u001b[43m,\u001b[49m\u001b[43m[\u001b[49m\u001b[38;5;241;43m2\u001b[39;49m\u001b[43m,\u001b[49m\u001b[38;5;241;43m3\u001b[39;49m\u001b[43m,\u001b[49m\u001b[38;5;241;43m4\u001b[39;49m\u001b[43m]\u001b[49m\u001b[43m)\u001b[49m\n",
      "\u001b[1;31mTypeError\u001b[0m: Field elements must be 2- or 3-tuples, got '2'"
     ]
    }
   ],
   "source": [
    "np.array([1,2,3],[2,3,4])"
   ]
  },
  {
   "cell_type": "markdown",
   "id": "b806d222",
   "metadata": {},
   "source": [
    "### Matrix Multiplication"
   ]
  },
  {
   "cell_type": "code",
   "execution_count": 10,
   "id": "d90875be",
   "metadata": {},
   "outputs": [],
   "source": [
    "array_1 = np.array([[1,2,3],\n",
    "                  [4,5,6],\n",
    "                  [7,8,9]])"
   ]
  },
  {
   "cell_type": "code",
   "execution_count": 11,
   "id": "459c802d",
   "metadata": {},
   "outputs": [],
   "source": [
    "array_2 = np.array([10,20,30])"
   ]
  },
  {
   "cell_type": "code",
   "execution_count": 12,
   "id": "3502c498",
   "metadata": {},
   "outputs": [
    {
     "data": {
      "text/plain": [
       "array([140, 320, 500])"
      ]
     },
     "execution_count": 12,
     "metadata": {},
     "output_type": "execute_result"
    }
   ],
   "source": [
    "np.matmul(array_1,array_2)"
   ]
  },
  {
   "cell_type": "markdown",
   "id": "2dcf023a",
   "metadata": {},
   "source": [
    "atau bisa juga dengan operator @"
   ]
  },
  {
   "cell_type": "code",
   "execution_count": 13,
   "id": "85ca9bc3",
   "metadata": {},
   "outputs": [
    {
     "data": {
      "text/plain": [
       "array([140, 320, 500])"
      ]
     },
     "execution_count": 13,
     "metadata": {},
     "output_type": "execute_result"
    }
   ],
   "source": [
    "array_1 @ array_2"
   ]
  },
  {
   "cell_type": "markdown",
   "id": "f3dfaa66",
   "metadata": {},
   "source": [
    "### Working with CSV files"
   ]
  },
  {
   "cell_type": "code",
   "execution_count": 14,
   "id": "2923b5c7",
   "metadata": {},
   "outputs": [],
   "source": [
    "from urllib.request import urlretrieve"
   ]
  },
  {
   "cell_type": "code",
   "execution_count": 15,
   "id": "ebbdb167",
   "metadata": {},
   "outputs": [
    {
     "data": {
      "text/plain": [
       "('climate.txt', <http.client.HTTPMessage at 0x235e7164370>)"
      ]
     },
     "execution_count": 15,
     "metadata": {},
     "output_type": "execute_result"
    }
   ],
   "source": [
    "url = 'https://gist.github.com/BirajCoder/a4ffcb76fd6fb221d76ac2ee2b8584e9/raw/4054f90adfd361b7aa4255e99c2e874664094cea/climate.csv'\n",
    "urlretrieve(url,'climate.txt')"
   ]
  },
  {
   "cell_type": "code",
   "execution_count": 16,
   "id": "e94b7b1b",
   "metadata": {},
   "outputs": [],
   "source": [
    "climate_data = np.genfromtxt('climate.txt',delimiter = ',',skip_header = 1)"
   ]
  },
  {
   "cell_type": "code",
   "execution_count": 17,
   "id": "c7b22cf3",
   "metadata": {},
   "outputs": [
    {
     "data": {
      "text/plain": [
       "array([[25., 76., 99.],\n",
       "       [39., 65., 70.],\n",
       "       [59., 45., 77.],\n",
       "       ...,\n",
       "       [99., 62., 58.],\n",
       "       [70., 71., 91.],\n",
       "       [92., 39., 76.]])"
      ]
     },
     "execution_count": 17,
     "metadata": {},
     "output_type": "execute_result"
    }
   ],
   "source": [
    "climate_data"
   ]
  },
  {
   "cell_type": "markdown",
   "id": "6b6e4bfa",
   "metadata": {},
   "source": [
    "### np.concatenate"
   ]
  },
  {
   "cell_type": "markdown",
   "id": "70ef0feb",
   "metadata": {},
   "source": [
    "mirip atau sama dengan vstack dan hstack"
   ]
  },
  {
   "cell_type": "code",
   "execution_count": 18,
   "id": "09d420a5",
   "metadata": {},
   "outputs": [],
   "source": [
    "weights = np.array([0.3,0.2,0.5])"
   ]
  },
  {
   "cell_type": "code",
   "execution_count": 19,
   "id": "0ffda96f",
   "metadata": {},
   "outputs": [],
   "source": [
    "yields = climate_data @ weights"
   ]
  },
  {
   "cell_type": "code",
   "execution_count": 20,
   "id": "8c990823",
   "metadata": {},
   "outputs": [
    {
     "data": {
      "text/plain": [
       "array([72.2, 59.7, 65.2, ..., 71.1, 80.7, 73.4])"
      ]
     },
     "execution_count": 20,
     "metadata": {},
     "output_type": "execute_result"
    }
   ],
   "source": [
    "yields"
   ]
  },
  {
   "cell_type": "code",
   "execution_count": 24,
   "id": "e0401d7b",
   "metadata": {},
   "outputs": [
    {
     "data": {
      "text/plain": [
       "(10000,)"
      ]
     },
     "execution_count": 24,
     "metadata": {},
     "output_type": "execute_result"
    }
   ],
   "source": [
    "yields.shape"
   ]
  },
  {
   "cell_type": "code",
   "execution_count": 26,
   "id": "d3ac639a",
   "metadata": {},
   "outputs": [],
   "source": [
    "yields = yields.reshape(10000,1)"
   ]
  },
  {
   "cell_type": "code",
   "execution_count": 28,
   "id": "cd0904be",
   "metadata": {},
   "outputs": [],
   "source": [
    "climate_result = np.concatenate((climate_data,yields),axis = 1)"
   ]
  },
  {
   "cell_type": "markdown",
   "id": "deec4713",
   "metadata": {},
   "source": [
    "### np.savetxt"
   ]
  },
  {
   "cell_type": "code",
   "execution_count": 29,
   "id": "90f5a3c0",
   "metadata": {},
   "outputs": [
    {
     "name": "stdout",
     "output_type": "stream",
     "text": [
      "Help on function savetxt in module numpy:\n",
      "\n",
      "savetxt(fname, X, fmt='%.18e', delimiter=' ', newline='\\n', header='', footer='', comments='# ', encoding=None)\n",
      "    Save an array to a text file.\n",
      "    \n",
      "    Parameters\n",
      "    ----------\n",
      "    fname : filename or file handle\n",
      "        If the filename ends in ``.gz``, the file is automatically saved in\n",
      "        compressed gzip format.  `loadtxt` understands gzipped files\n",
      "        transparently.\n",
      "    X : 1D or 2D array_like\n",
      "        Data to be saved to a text file.\n",
      "    fmt : str or sequence of strs, optional\n",
      "        A single format (%10.5f), a sequence of formats, or a\n",
      "        multi-format string, e.g. 'Iteration %d -- %10.5f', in which\n",
      "        case `delimiter` is ignored. For complex `X`, the legal options\n",
      "        for `fmt` are:\n",
      "    \n",
      "        * a single specifier, `fmt='%.4e'`, resulting in numbers formatted\n",
      "          like `' (%s+%sj)' % (fmt, fmt)`\n",
      "        * a full string specifying every real and imaginary part, e.g.\n",
      "          `' %.4e %+.4ej %.4e %+.4ej %.4e %+.4ej'` for 3 columns\n",
      "        * a list of specifiers, one per column - in this case, the real\n",
      "          and imaginary part must have separate specifiers,\n",
      "          e.g. `['%.3e + %.3ej', '(%.15e%+.15ej)']` for 2 columns\n",
      "    delimiter : str, optional\n",
      "        String or character separating columns.\n",
      "    newline : str, optional\n",
      "        String or character separating lines.\n",
      "    \n",
      "        .. versionadded:: 1.5.0\n",
      "    header : str, optional\n",
      "        String that will be written at the beginning of the file.\n",
      "    \n",
      "        .. versionadded:: 1.7.0\n",
      "    footer : str, optional\n",
      "        String that will be written at the end of the file.\n",
      "    \n",
      "        .. versionadded:: 1.7.0\n",
      "    comments : str, optional\n",
      "        String that will be prepended to the ``header`` and ``footer`` strings,\n",
      "        to mark them as comments. Default: '# ',  as expected by e.g.\n",
      "        ``numpy.loadtxt``.\n",
      "    \n",
      "        .. versionadded:: 1.7.0\n",
      "    encoding : {None, str}, optional\n",
      "        Encoding used to encode the outputfile. Does not apply to output\n",
      "        streams. If the encoding is something other than 'bytes' or 'latin1'\n",
      "        you will not be able to load the file in NumPy versions < 1.14. Default\n",
      "        is 'latin1'.\n",
      "    \n",
      "        .. versionadded:: 1.14.0\n",
      "    \n",
      "    \n",
      "    See Also\n",
      "    --------\n",
      "    save : Save an array to a binary file in NumPy ``.npy`` format\n",
      "    savez : Save several arrays into an uncompressed ``.npz`` archive\n",
      "    savez_compressed : Save several arrays into a compressed ``.npz`` archive\n",
      "    \n",
      "    Notes\n",
      "    -----\n",
      "    Further explanation of the `fmt` parameter\n",
      "    (``%[flag]width[.precision]specifier``):\n",
      "    \n",
      "    flags:\n",
      "        ``-`` : left justify\n",
      "    \n",
      "        ``+`` : Forces to precede result with + or -.\n",
      "    \n",
      "        ``0`` : Left pad the number with zeros instead of space (see width).\n",
      "    \n",
      "    width:\n",
      "        Minimum number of characters to be printed. The value is not truncated\n",
      "        if it has more characters.\n",
      "    \n",
      "    precision:\n",
      "        - For integer specifiers (eg. ``d,i,o,x``), the minimum number of\n",
      "          digits.\n",
      "        - For ``e, E`` and ``f`` specifiers, the number of digits to print\n",
      "          after the decimal point.\n",
      "        - For ``g`` and ``G``, the maximum number of significant digits.\n",
      "        - For ``s``, the maximum number of characters.\n",
      "    \n",
      "    specifiers:\n",
      "        ``c`` : character\n",
      "    \n",
      "        ``d`` or ``i`` : signed decimal integer\n",
      "    \n",
      "        ``e`` or ``E`` : scientific notation with ``e`` or ``E``.\n",
      "    \n",
      "        ``f`` : decimal floating point\n",
      "    \n",
      "        ``g,G`` : use the shorter of ``e,E`` or ``f``\n",
      "    \n",
      "        ``o`` : signed octal\n",
      "    \n",
      "        ``s`` : string of characters\n",
      "    \n",
      "        ``u`` : unsigned decimal integer\n",
      "    \n",
      "        ``x,X`` : unsigned hexadecimal integer\n",
      "    \n",
      "    This explanation of ``fmt`` is not complete, for an exhaustive\n",
      "    specification see [1]_.\n",
      "    \n",
      "    References\n",
      "    ----------\n",
      "    .. [1] `Format Specification Mini-Language\n",
      "           <https://docs.python.org/library/string.html#format-specification-mini-language>`_,\n",
      "           Python Documentation.\n",
      "    \n",
      "    Examples\n",
      "    --------\n",
      "    >>> x = y = z = np.arange(0.0,5.0,1.0)\n",
      "    >>> np.savetxt('test.out', x, delimiter=',')   # X is an array\n",
      "    >>> np.savetxt('test.out', (x,y,z))   # x,y,z equal sized 1D arrays\n",
      "    >>> np.savetxt('test.out', x, fmt='%1.4e')   # use exponential notation\n",
      "\n"
     ]
    }
   ],
   "source": [
    "help(np.savetxt)"
   ]
  },
  {
   "cell_type": "code",
   "execution_count": 31,
   "id": "e2f74a6d",
   "metadata": {},
   "outputs": [],
   "source": [
    "np.savetxt('climate_result.txt',\n",
    "          climate_result,\n",
    "          fmt = '%.2f',\n",
    "          delimiter = ',',\n",
    "          header = 'temperature,rainfall,humidity,yeild_apples',\n",
    "          comments = '')"
   ]
  },
  {
   "cell_type": "markdown",
   "id": "9afc0a0d",
   "metadata": {},
   "source": [
    "### np.eye"
   ]
  },
  {
   "cell_type": "markdown",
   "id": "54bb1ff0",
   "metadata": {},
   "source": [
    "membuat matrix identitas"
   ]
  },
  {
   "cell_type": "code",
   "execution_count": 33,
   "id": "e655567c",
   "metadata": {},
   "outputs": [
    {
     "data": {
      "text/plain": [
       "array([[1, 0, 0],\n",
       "       [0, 1, 0],\n",
       "       [0, 0, 1]], dtype=int32)"
      ]
     },
     "execution_count": 33,
     "metadata": {},
     "output_type": "execute_result"
    }
   ],
   "source": [
    "np.eye(3,dtype='i')"
   ]
  },
  {
   "cell_type": "markdown",
   "id": "d3ce208e",
   "metadata": {},
   "source": [
    "### np.full"
   ]
  },
  {
   "cell_type": "code",
   "execution_count": 34,
   "id": "9cf84eba",
   "metadata": {},
   "outputs": [
    {
     "data": {
      "text/plain": [
       "array([[8, 8, 8, 8],\n",
       "       [8, 8, 8, 8],\n",
       "       [8, 8, 8, 8]])"
      ]
     },
     "execution_count": 34,
     "metadata": {},
     "output_type": "execute_result"
    }
   ],
   "source": [
    "np.full([3,4],8)"
   ]
  },
  {
   "cell_type": "markdown",
   "id": "31f1b533",
   "metadata": {},
   "source": [
    "### np.linspace"
   ]
  },
  {
   "cell_type": "code",
   "execution_count": 35,
   "id": "e9185e4c",
   "metadata": {},
   "outputs": [
    {
     "data": {
      "text/plain": [
       "array([ 0. ,  2.5,  5. ,  7.5, 10. ])"
      ]
     },
     "execution_count": 35,
     "metadata": {},
     "output_type": "execute_result"
    }
   ],
   "source": [
    "np.linspace(0,10,5)"
   ]
  },
  {
   "cell_type": "code",
   "execution_count": null,
   "id": "04355d87",
   "metadata": {},
   "outputs": [],
   "source": []
  }
 ],
 "metadata": {
  "kernelspec": {
   "display_name": "Python 3 (ipykernel)",
   "language": "python",
   "name": "python3"
  },
  "language_info": {
   "codemirror_mode": {
    "name": "ipython",
    "version": 3
   },
   "file_extension": ".py",
   "mimetype": "text/x-python",
   "name": "python",
   "nbconvert_exporter": "python",
   "pygments_lexer": "ipython3",
   "version": "3.10.7"
  }
 },
 "nbformat": 4,
 "nbformat_minor": 5
}
