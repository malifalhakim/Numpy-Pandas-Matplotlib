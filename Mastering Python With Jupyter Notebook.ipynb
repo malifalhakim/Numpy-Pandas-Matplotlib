{
 "cells": [
  {
   "cell_type": "markdown",
   "id": "739f4fd7",
   "metadata": {},
   "source": [
    "# Mastering Python with Jupyter Notebook "
   ]
  },
  {
   "cell_type": "markdown",
   "id": "141e0549",
   "metadata": {},
   "source": [
    "This is our first program in Python"
   ]
  },
  {
   "cell_type": "code",
   "execution_count": 28,
   "id": "756767b9",
   "metadata": {},
   "outputs": [
    {
     "name": "stdout",
     "output_type": "stream",
     "text": [
      "Hello World\n"
     ]
    }
   ],
   "source": [
    "print(\"Hello World\")"
   ]
  },
  {
   "cell_type": "markdown",
   "id": "015c93ea",
   "metadata": {},
   "source": [
    "$a^2+b^2=c^2$"
   ]
  },
  {
   "cell_type": "markdown",
   "id": "a0818ae7",
   "metadata": {},
   "source": [
    "That's using latex syntax"
   ]
  },
  {
   "cell_type": "markdown",
   "id": "fb89cbd2",
   "metadata": {},
   "source": [
    "# Variabels"
   ]
  },
  {
   "cell_type": "code",
   "execution_count": 29,
   "id": "123530c7",
   "metadata": {},
   "outputs": [],
   "source": [
    "x = 3"
   ]
  },
  {
   "cell_type": "code",
   "execution_count": 30,
   "id": "230457e2",
   "metadata": {
    "scrolled": true
   },
   "outputs": [
    {
     "name": "stdout",
     "output_type": "stream",
     "text": [
      "Variable   Type       Data/Info\n",
      "-------------------------------\n",
      "a          int        5\n",
      "b          float      1.2\n",
      "c          complex    (2+4j)\n",
      "d          int        9\n",
      "f          int        34\n",
      "string     str        El Psy CongrooSteins gate choice\n",
      "x          int        3\n"
     ]
    }
   ],
   "source": [
    "%whos"
   ]
  },
  {
   "cell_type": "code",
   "execution_count": 31,
   "id": "7949b680",
   "metadata": {
    "scrolled": true
   },
   "outputs": [
    {
     "name": "stdout",
     "output_type": "stream",
     "text": [
      "<class 'int'>\n"
     ]
    }
   ],
   "source": [
    "print(type(x))"
   ]
  },
  {
   "cell_type": "code",
   "execution_count": 32,
   "id": "5ade8d34",
   "metadata": {},
   "outputs": [],
   "source": [
    "x = 5.7"
   ]
  },
  {
   "cell_type": "code",
   "execution_count": 33,
   "id": "ef96d8af",
   "metadata": {},
   "outputs": [
    {
     "name": "stdout",
     "output_type": "stream",
     "text": [
      "Variable   Type       Data/Info\n",
      "-------------------------------\n",
      "a          int        5\n",
      "b          float      1.2\n",
      "c          complex    (2+4j)\n",
      "d          int        9\n",
      "f          int        34\n",
      "string     str        El Psy CongrooSteins gate choice\n",
      "x          float      5.7\n"
     ]
    }
   ],
   "source": [
    "%whos"
   ]
  },
  {
   "cell_type": "code",
   "execution_count": 34,
   "id": "952467ba",
   "metadata": {},
   "outputs": [],
   "source": [
    "abcd = 556.32"
   ]
  },
  {
   "cell_type": "code",
   "execution_count": 35,
   "id": "3c108969",
   "metadata": {},
   "outputs": [
    {
     "name": "stdout",
     "output_type": "stream",
     "text": [
      "Variable   Type       Data/Info\n",
      "-------------------------------\n",
      "a          int        5\n",
      "abcd       float      556.32\n",
      "b          float      1.2\n",
      "c          complex    (2+4j)\n",
      "d          int        9\n",
      "f          int        34\n",
      "string     str        El Psy CongrooSteins gate choice\n",
      "x          float      5.7\n"
     ]
    }
   ],
   "source": [
    "%whos"
   ]
  },
  {
   "cell_type": "code",
   "execution_count": 36,
   "id": "d35e6bef",
   "metadata": {},
   "outputs": [],
   "source": [
    "a,b,c,d,f = 5,1.2,1.0,9,34"
   ]
  },
  {
   "cell_type": "code",
   "execution_count": 37,
   "id": "7a59ed57",
   "metadata": {},
   "outputs": [
    {
     "name": "stdout",
     "output_type": "stream",
     "text": [
      "Variable   Type     Data/Info\n",
      "-----------------------------\n",
      "a          int      5\n",
      "abcd       float    556.32\n",
      "b          float    1.2\n",
      "c          float    1.0\n",
      "d          int      9\n",
      "f          int      34\n",
      "string     str      El Psy CongrooSteins gate choice\n",
      "x          float    5.7\n"
     ]
    }
   ],
   "source": [
    "%whos"
   ]
  },
  {
   "cell_type": "code",
   "execution_count": 38,
   "id": "0be08a95",
   "metadata": {},
   "outputs": [],
   "source": [
    "del abcd"
   ]
  },
  {
   "cell_type": "code",
   "execution_count": 39,
   "id": "c6f35988",
   "metadata": {},
   "outputs": [
    {
     "name": "stdout",
     "output_type": "stream",
     "text": [
      "Variable   Type     Data/Info\n",
      "-----------------------------\n",
      "a          int      5\n",
      "b          float    1.2\n",
      "c          float    1.0\n",
      "d          int      9\n",
      "f          int      34\n",
      "string     str      El Psy CongrooSteins gate choice\n",
      "x          float    5.7\n"
     ]
    }
   ],
   "source": [
    "%whos"
   ]
  },
  {
   "cell_type": "code",
   "execution_count": 40,
   "id": "53f4fee7",
   "metadata": {},
   "outputs": [],
   "source": [
    "c = 2 + 4j "
   ]
  },
  {
   "cell_type": "code",
   "execution_count": 41,
   "id": "ed23fb05",
   "metadata": {},
   "outputs": [
    {
     "name": "stdout",
     "output_type": "stream",
     "text": [
      "Variable   Type       Data/Info\n",
      "-------------------------------\n",
      "a          int        5\n",
      "b          float      1.2\n",
      "c          complex    (2+4j)\n",
      "d          int        9\n",
      "f          int        34\n",
      "string     str        El Psy CongrooSteins gate choice\n",
      "x          float      5.7\n"
     ]
    }
   ],
   "source": [
    "%whos"
   ]
  },
  {
   "cell_type": "code",
   "execution_count": 42,
   "id": "a2f6bd90",
   "metadata": {},
   "outputs": [],
   "source": [
    "x += 100"
   ]
  },
  {
   "cell_type": "code",
   "execution_count": 43,
   "id": "10bea5b4",
   "metadata": {},
   "outputs": [
    {
     "name": "stdout",
     "output_type": "stream",
     "text": [
      "105.7\n"
     ]
    }
   ],
   "source": [
    "print(x)"
   ]
  },
  {
   "cell_type": "code",
   "execution_count": 44,
   "id": "5bbf87fb",
   "metadata": {},
   "outputs": [],
   "source": [
    "string = 'El Psy Congroo'"
   ]
  },
  {
   "cell_type": "markdown",
   "id": "ee9636c3",
   "metadata": {},
   "source": [
    "# Operators"
   ]
  },
  {
   "cell_type": "code",
   "execution_count": 45,
   "id": "b1f6aeee",
   "metadata": {},
   "outputs": [
    {
     "name": "stdout",
     "output_type": "stream",
     "text": [
      "Variable   Type       Data/Info\n",
      "-------------------------------\n",
      "a          int        5\n",
      "b          float      1.2\n",
      "c          complex    (2+4j)\n",
      "d          int        9\n",
      "f          int        34\n",
      "string     str        El Psy Congroo\n",
      "x          float      105.7\n"
     ]
    }
   ],
   "source": [
    "%whos"
   ]
  },
  {
   "cell_type": "code",
   "execution_count": 46,
   "id": "6949d0bc",
   "metadata": {},
   "outputs": [],
   "source": [
    "sum_ab = a + b"
   ]
  },
  {
   "cell_type": "code",
   "execution_count": 47,
   "id": "d8451cd7",
   "metadata": {},
   "outputs": [
    {
     "name": "stdout",
     "output_type": "stream",
     "text": [
      "6.2\n"
     ]
    }
   ],
   "source": [
    "print(sum_ab)"
   ]
  },
  {
   "cell_type": "code",
   "execution_count": 48,
   "id": "1363bbd5",
   "metadata": {},
   "outputs": [
    {
     "name": "stdout",
     "output_type": "stream",
     "text": [
      "Variable   Type       Data/Info\n",
      "-------------------------------\n",
      "a          int        5\n",
      "b          float      1.2\n",
      "c          complex    (2+4j)\n",
      "d          int        9\n",
      "f          int        34\n",
      "string     str        El Psy Congroo\n",
      "sum_ab     float      6.2\n",
      "x          float      105.7\n"
     ]
    }
   ],
   "source": [
    "%whos"
   ]
  },
  {
   "cell_type": "code",
   "execution_count": 49,
   "id": "8d699ce9",
   "metadata": {},
   "outputs": [],
   "source": [
    "string += 'Steins gate choice'"
   ]
  },
  {
   "cell_type": "code",
   "execution_count": 50,
   "id": "4575d298",
   "metadata": {},
   "outputs": [
    {
     "name": "stdout",
     "output_type": "stream",
     "text": [
      "El Psy CongrooSteins gate choice\n"
     ]
    }
   ],
   "source": [
    "print(string)"
   ]
  },
  {
   "cell_type": "code",
   "execution_count": 51,
   "id": "16763bf6",
   "metadata": {},
   "outputs": [
    {
     "name": "stdout",
     "output_type": "stream",
     "text": [
      "Variable   Type       Data/Info\n",
      "-------------------------------\n",
      "a          int        5\n",
      "b          float      1.2\n",
      "c          complex    (2+4j)\n",
      "d          int        9\n",
      "f          int        34\n",
      "string     str        El Psy CongrooSteins gate choice\n",
      "sum_ab     float      6.2\n",
      "x          float      105.7\n"
     ]
    }
   ],
   "source": [
    "%whos"
   ]
  },
  {
   "cell_type": "code",
   "execution_count": 52,
   "id": "8a41de31",
   "metadata": {},
   "outputs": [],
   "source": [
    "del sum_ab"
   ]
  },
  {
   "cell_type": "code",
   "execution_count": 53,
   "id": "66506f9f",
   "metadata": {},
   "outputs": [
    {
     "name": "stdout",
     "output_type": "stream",
     "text": [
      "Variable   Type       Data/Info\n",
      "-------------------------------\n",
      "a          int        5\n",
      "b          float      1.2\n",
      "c          complex    (2+4j)\n",
      "d          int        9\n",
      "f          int        34\n",
      "string     str        El Psy CongrooSteins gate choice\n",
      "x          float      105.7\n"
     ]
    }
   ],
   "source": [
    "%whos"
   ]
  },
  {
   "cell_type": "code",
   "execution_count": 54,
   "id": "a9766f61",
   "metadata": {},
   "outputs": [
    {
     "ename": "TypeError",
     "evalue": "unsupported operand type(s) for //: 'float' and 'complex'",
     "output_type": "error",
     "traceback": [
      "\u001b[1;31m---------------------------------------------------------------------------\u001b[0m",
      "\u001b[1;31mTypeError\u001b[0m                                 Traceback (most recent call last)",
      "Cell \u001b[1;32mIn [54], line 1\u001b[0m\n\u001b[1;32m----> 1\u001b[0m \u001b[38;5;28mprint\u001b[39m(\u001b[43mb\u001b[49m\u001b[38;5;241;43m/\u001b[39;49m\u001b[38;5;241;43m/\u001b[39;49m\u001b[43mc\u001b[49m)\n",
      "\u001b[1;31mTypeError\u001b[0m: unsupported operand type(s) for //: 'float' and 'complex'"
     ]
    }
   ],
   "source": [
    "print(b//c)"
   ]
  },
  {
   "cell_type": "code",
   "execution_count": null,
   "id": "a55ac8ef",
   "metadata": {},
   "outputs": [],
   "source": [
    "print(b//d)"
   ]
  },
  {
   "cell_type": "code",
   "execution_count": null,
   "id": "15f86bf3",
   "metadata": {},
   "outputs": [],
   "source": [
    "3x = 100"
   ]
  },
  {
   "cell_type": "code",
   "execution_count": null,
   "id": "fa066c99",
   "metadata": {},
   "outputs": [],
   "source": [
    "@y = 12"
   ]
  },
  {
   "cell_type": "code",
   "execution_count": null,
   "id": "e4afe6fe",
   "metadata": {},
   "outputs": [],
   "source": [
    "*t = 2"
   ]
  },
  {
   "cell_type": "code",
   "execution_count": null,
   "id": "62765c82",
   "metadata": {},
   "outputs": [],
   "source": [
    "_halo = 'hai'"
   ]
  },
  {
   "cell_type": "code",
   "execution_count": null,
   "id": "00f8c8e2",
   "metadata": {},
   "outputs": [],
   "source": [
    "print(_halo)"
   ]
  },
  {
   "cell_type": "markdown",
   "id": "621c830f",
   "metadata": {},
   "source": [
    "variable name must be in snake case"
   ]
  },
  {
   "cell_type": "markdown",
   "id": "c35ac35f",
   "metadata": {},
   "source": [
    "example : "
   ]
  },
  {
   "cell_type": "code",
   "execution_count": null,
   "id": "7d32e431",
   "metadata": {},
   "outputs": [],
   "source": [
    "starting_time = 0"
   ]
  },
  {
   "cell_type": "markdown",
   "id": "e25d2876",
   "metadata": {},
   "source": [
    "# Boolean"
   ]
  },
  {
   "cell_type": "code",
   "execution_count": null,
   "id": "2e33e094",
   "metadata": {},
   "outputs": [],
   "source": [
    "a = True\n",
    "b = True\n",
    "c = False\n"
   ]
  },
  {
   "cell_type": "code",
   "execution_count": null,
   "id": "729938b4",
   "metadata": {},
   "outputs": [],
   "source": [
    "%whos"
   ]
  },
  {
   "cell_type": "code",
   "execution_count": null,
   "id": "be5a231f",
   "metadata": {},
   "outputs": [],
   "source": [
    "print(a and b)"
   ]
  },
  {
   "cell_type": "code",
   "execution_count": null,
   "id": "7a7da257",
   "metadata": {},
   "outputs": [],
   "source": [
    "print(a or c)"
   ]
  },
  {
   "cell_type": "code",
   "execution_count": null,
   "id": "053caa87",
   "metadata": {},
   "outputs": [],
   "source": [
    "print(a and c)"
   ]
  },
  {
   "cell_type": "code",
   "execution_count": null,
   "id": "a815afb8",
   "metadata": {},
   "outputs": [],
   "source": [
    "d = a or c\n",
    "print(d)"
   ]
  },
  {
   "cell_type": "code",
   "execution_count": null,
   "id": "3673e4e5",
   "metadata": {},
   "outputs": [],
   "source": [
    "print(not d)"
   ]
  },
  {
   "cell_type": "code",
   "execution_count": null,
   "id": "dfc41ac3",
   "metadata": {},
   "outputs": [],
   "source": [
    "w = ~a\n",
    "print(w)"
   ]
  },
  {
   "cell_type": "markdown",
   "id": "808603cc",
   "metadata": {},
   "source": [
    "that's use for binary "
   ]
  },
  {
   "cell_type": "markdown",
   "id": "539f81c2",
   "metadata": {},
   "source": [
    "# Comparisons"
   ]
  },
  {
   "cell_type": "code",
   "execution_count": null,
   "id": "8922558c",
   "metadata": {},
   "outputs": [],
   "source": [
    "print(2 < 3)"
   ]
  },
  {
   "cell_type": "code",
   "execution_count": null,
   "id": "f0186831",
   "metadata": {},
   "outputs": [],
   "source": [
    "print(2 == '2')"
   ]
  },
  {
   "cell_type": "code",
   "execution_count": null,
   "id": "5f033c5f",
   "metadata": {},
   "outputs": [],
   "source": [
    "print(2 == 'halo')"
   ]
  },
  {
   "cell_type": "code",
   "execution_count": null,
   "id": "d8c6d868",
   "metadata": {},
   "outputs": [],
   "source": [
    "print(2 > '2')"
   ]
  },
  {
   "cell_type": "markdown",
   "id": "375a5a20",
   "metadata": {},
   "source": [
    "TypeError --> expression cannot evaluate because the different type of input\n",
    "ValueError --> expression can evaluate but because some input made in cannot evaluate\n",
    "ex : int('hello')"
   ]
  },
  {
   "cell_type": "code",
   "execution_count": null,
   "id": "1dc6d388",
   "metadata": {},
   "outputs": [],
   "source": [
    "variabel = int('halo')"
   ]
  },
  {
   "cell_type": "code",
   "execution_count": null,
   "id": "c1be6b82",
   "metadata": {},
   "outputs": [],
   "source": [
    "print(3 == 3.0 )"
   ]
  },
  {
   "cell_type": "code",
   "execution_count": null,
   "id": "219dfe7a",
   "metadata": {},
   "outputs": [],
   "source": [
    "print(3.1 === 3.1)"
   ]
  },
  {
   "cell_type": "code",
   "execution_count": null,
   "id": "13e733b8",
   "metadata": {},
   "outputs": [],
   "source": [
    "print(3.1 == 3.1)"
   ]
  },
  {
   "cell_type": "code",
   "execution_count": null,
   "id": "b781eeeb",
   "metadata": {},
   "outputs": [],
   "source": [
    "f = 1 - 0.1 - 0.1 - 0.1\n",
    "g = 0.7"
   ]
  },
  {
   "cell_type": "code",
   "execution_count": null,
   "id": "691baa84",
   "metadata": {},
   "outputs": [],
   "source": [
    "print(f == g)"
   ]
  },
  {
   "cell_type": "markdown",
   "id": "b73184b8",
   "metadata": {},
   "source": [
    "that's round off error\n",
    "abs(f-g)<1E-14"
   ]
  },
  {
   "cell_type": "code",
   "execution_count": null,
   "id": "5deca9b6",
   "metadata": {},
   "outputs": [],
   "source": [
    "#f is approximately equal to g\n",
    "print(abs(f-g) < 1E-14)"
   ]
  },
  {
   "cell_type": "markdown",
   "id": "a33fd14c",
   "metadata": {},
   "source": [
    "# Some Useful Functions"
   ]
  },
  {
   "cell_type": "markdown",
   "id": "1a3e73ff",
   "metadata": {},
   "source": [
    "### Round"
   ]
  },
  {
   "cell_type": "code",
   "execution_count": null,
   "id": "fff6ac8c",
   "metadata": {},
   "outputs": [],
   "source": [
    "print(round(4.532535,3))"
   ]
  },
  {
   "cell_type": "markdown",
   "id": "5e8651c8",
   "metadata": {},
   "source": [
    "### Divmod"
   ]
  },
  {
   "cell_type": "code",
   "execution_count": null,
   "id": "cec77c83",
   "metadata": {},
   "outputs": [],
   "source": [
    "divmod(22,10)"
   ]
  },
  {
   "cell_type": "code",
   "execution_count": null,
   "id": "c0a00b19",
   "metadata": {},
   "outputs": [],
   "source": [
    "divmod(27,5)"
   ]
  },
  {
   "cell_type": "code",
   "execution_count": null,
   "id": "a3b0585f",
   "metadata": {},
   "outputs": [],
   "source": [
    "G = divmod(27,5)"
   ]
  },
  {
   "cell_type": "code",
   "execution_count": null,
   "id": "3fd51557",
   "metadata": {},
   "outputs": [],
   "source": [
    "type(G)"
   ]
  },
  {
   "cell_type": "code",
   "execution_count": null,
   "id": "cab93adb",
   "metadata": {},
   "outputs": [],
   "source": [
    "G[0]"
   ]
  },
  {
   "cell_type": "code",
   "execution_count": null,
   "id": "bbbbb534",
   "metadata": {},
   "outputs": [],
   "source": [
    "G[1]"
   ]
  },
  {
   "cell_type": "markdown",
   "id": "346fa080",
   "metadata": {},
   "source": [
    "### Isinstance"
   ]
  },
  {
   "cell_type": "code",
   "execution_count": null,
   "id": "b224f5b8",
   "metadata": {},
   "outputs": [],
   "source": [
    "isinstance(3.4,float)"
   ]
  },
  {
   "cell_type": "code",
   "execution_count": null,
   "id": "a25c0424",
   "metadata": {},
   "outputs": [],
   "source": [
    "isinstance(2,int)"
   ]
  },
  {
   "cell_type": "code",
   "execution_count": null,
   "id": "20c09aaa",
   "metadata": {},
   "outputs": [],
   "source": [
    "isinstance('as',str)"
   ]
  },
  {
   "cell_type": "code",
   "execution_count": null,
   "id": "c5e943c8",
   "metadata": {},
   "outputs": [],
   "source": [
    "isinstance(12,float)"
   ]
  },
  {
   "cell_type": "code",
   "execution_count": null,
   "id": "2fe565f1",
   "metadata": {},
   "outputs": [],
   "source": [
    "isinstance(12,(int,float))"
   ]
  },
  {
   "cell_type": "markdown",
   "id": "2cf1099a",
   "metadata": {},
   "source": [
    "### Pow"
   ]
  },
  {
   "cell_type": "code",
   "execution_count": null,
   "id": "a7c4f8b2",
   "metadata": {},
   "outputs": [],
   "source": [
    "pow(2,4,7)"
   ]
  },
  {
   "cell_type": "markdown",
   "id": "79042432",
   "metadata": {},
   "source": [
    "2 dipangkat 4 lalu dimodulus 7\n"
   ]
  },
  {
   "cell_type": "markdown",
   "id": "49bbcfc7",
   "metadata": {},
   "source": [
    "x ** y % z"
   ]
  },
  {
   "cell_type": "markdown",
   "id": "7ae31c19",
   "metadata": {},
   "source": [
    "### Input"
   ]
  },
  {
   "cell_type": "code",
   "execution_count": null,
   "id": "1d553e58",
   "metadata": {},
   "outputs": [],
   "source": [
    "user_input = input(\"Masukkan Nilai : \")"
   ]
  },
  {
   "cell_type": "code",
   "execution_count": null,
   "id": "77401de5",
   "metadata": {},
   "outputs": [],
   "source": [
    "print(f\"User mengisi dengan {user_input}\")"
   ]
  },
  {
   "cell_type": "code",
   "execution_count": null,
   "id": "7f20e9cd",
   "metadata": {},
   "outputs": [],
   "source": [
    "pow?"
   ]
  },
  {
   "cell_type": "markdown",
   "id": "b6db528b",
   "metadata": {},
   "source": [
    "Untuk mencari tahu tentang fungsi"
   ]
  },
  {
   "cell_type": "code",
   "execution_count": null,
   "id": "930f3c56",
   "metadata": {},
   "outputs": [],
   "source": [
    "pow??"
   ]
  },
  {
   "cell_type": "markdown",
   "id": "18a69db8",
   "metadata": {},
   "source": [
    "sama saja dengan yang diatas"
   ]
  },
  {
   "cell_type": "code",
   "execution_count": null,
   "id": "d8bb4a88",
   "metadata": {},
   "outputs": [],
   "source": [
    "help(divmod)"
   ]
  },
  {
   "cell_type": "markdown",
   "id": "ca5ca253",
   "metadata": {},
   "source": [
    "`Untuk mencari tahu tentang fungsi juga"
   ]
  },
  {
   "cell_type": "markdown",
   "id": "ba69f987",
   "metadata": {},
   "source": [
    "# Control Flow"
   ]
  },
  {
   "cell_type": "code",
   "execution_count": null,
   "id": "81753bb9",
   "metadata": {},
   "outputs": [],
   "source": [
    "#Control Flow Program 1\n",
    "\"\"\"\n",
    "Program akan mencari data yang terbesar dari data yang diinput oleh user dan sekaligus memvalidasi\n",
    "apakah data int atau bukan\n",
    "\"\"\"\n",
    "\n",
    "valid = False \n",
    "while not valid:\n",
    "    try:\n",
    "        num1 = int(input(\"Enter a number : \"))\n",
    "        num2 = int(input(\"Enter a number : \"))\n",
    "        if num1 > num2 :\n",
    "            print(f\"The biggest number is {num1}\")\n",
    "        else :\n",
    "            print(f\"The biggest number is {num2}\")\n",
    "        valid = True\n",
    "    except ValueError:\n",
    "        print(\"Input must be an integer\")"
   ]
  },
  {
   "cell_type": "code",
   "execution_count": null,
   "id": "96516418",
   "metadata": {},
   "outputs": [],
   "source": [
    "#Control Flow Program 2\n",
    "\"\"\"\n",
    "Program akan menjumlahkan semua nilai yang dilist\n",
    "\"\"\"\n",
    "isDone = False\n",
    "sum = 0\n",
    "while not isDone:\n",
    "    try:\n",
    "        num = int(input(\"Enter a number (-1 -> Stop): \"))\n",
    "        if num == -1:\n",
    "            isDone = True\n",
    "        else:\n",
    "            sum += num\n",
    "    except ValueError:\n",
    "        print(\"Input must be an integer\")\n",
    "        \n",
    "print(f\"Total = {sum}\")"
   ]
  },
  {
   "cell_type": "code",
   "execution_count": null,
   "id": "eb4aa314",
   "metadata": {},
   "outputs": [],
   "source": [
    "Word_list = [\"EL\",'PSY','CONGROO']\n",
    "for word in Word_list :\n",
    "    print(word , end = ' ')"
   ]
  },
  {
   "cell_type": "markdown",
   "id": "7ccf1159",
   "metadata": {},
   "source": [
    "# Functions"
   ]
  },
  {
   "cell_type": "markdown",
   "id": "fea66629",
   "metadata": {},
   "source": [
    "### Example"
   ]
  },
  {
   "cell_type": "code",
   "execution_count": null,
   "id": "f89b0f6c",
   "metadata": {},
   "outputs": [],
   "source": [
    "def palindrom(str):\n",
    "    \"\"\"Mengecek apakah string yang dimasukkan palindrom atau bukan\"\"\"\n",
    "    return str == str[::-1]"
   ]
  },
  {
   "cell_type": "code",
   "execution_count": null,
   "id": "047faa8e",
   "metadata": {},
   "outputs": [],
   "source": [
    "my_str = input('Enter a word : ')\n",
    "print(palindrom(my_str))"
   ]
  },
  {
   "cell_type": "code",
   "execution_count": null,
   "id": "3c6f3d4b",
   "metadata": {},
   "outputs": [],
   "source": [
    "import test\n",
    "nilai = test.sum(100,12)\n",
    "print(nilai)"
   ]
  },
  {
   "cell_type": "code",
   "execution_count": null,
   "id": "ad59de40",
   "metadata": {},
   "outputs": [],
   "source": [
    "palindrom?"
   ]
  },
  {
   "cell_type": "markdown",
   "id": "8693a2d8",
   "metadata": {},
   "source": [
    "Bisa Mengecek Fungsi tersebut gunanya apa"
   ]
  },
  {
   "cell_type": "markdown",
   "id": "2c498463",
   "metadata": {},
   "source": [
    "Jadi biasakan pakai docstring"
   ]
  },
  {
   "cell_type": "code",
   "execution_count": null,
   "id": "e18f06c6",
   "metadata": {},
   "outputs": [],
   "source": [
    "help(palindrom)"
   ]
  },
  {
   "cell_type": "markdown",
   "id": "20d2aa22",
   "metadata": {},
   "source": [
    "### *args in Function"
   ]
  },
  {
   "cell_type": "markdown",
   "id": "f1b4f6f3",
   "metadata": {},
   "source": [
    "example :"
   ]
  },
  {
   "cell_type": "code",
   "execution_count": null,
   "id": "81a7312a",
   "metadata": {},
   "outputs": [],
   "source": [
    "def add(*args):\n",
    "    \"\"\"Menjumlahkan semua angka di parameter fungsi\"\"\"\n",
    "    sum = 0\n",
    "    for i in range(len(args)):\n",
    "        sum += args[i]\n",
    "    return sum"
   ]
  },
  {
   "cell_type": "code",
   "execution_count": null,
   "id": "24f6d48b",
   "metadata": {},
   "outputs": [],
   "source": [
    "print(add(1,2,4,14,1341,513,1))"
   ]
  },
  {
   "cell_type": "markdown",
   "id": "c155eb05",
   "metadata": {},
   "source": [
    "#### or can be implement like this"
   ]
  },
  {
   "cell_type": "code",
   "execution_count": null,
   "id": "17497b92",
   "metadata": {},
   "outputs": [],
   "source": [
    "def add(*args):\n",
    "    \"\"\"Menjumlahkan semua angka di parameter fungsi\"\"\"\n",
    "    sum = 0 \n",
    "    for num in args:\n",
    "        sum += num\n",
    "    return sum"
   ]
  },
  {
   "cell_type": "code",
   "execution_count": null,
   "id": "609575cf",
   "metadata": {},
   "outputs": [],
   "source": [
    "print(add(1,2,4,14,1341,513,1))"
   ]
  },
  {
   "cell_type": "code",
   "execution_count": null,
   "id": "3848902a",
   "metadata": {},
   "outputs": [],
   "source": [
    "def func(*args):\n",
    "    print(args)"
   ]
  },
  {
   "cell_type": "code",
   "execution_count": null,
   "id": "4e9200d9",
   "metadata": {},
   "outputs": [],
   "source": [
    "func('Ohaa','Tuturu')"
   ]
  },
  {
   "cell_type": "markdown",
   "id": "624f5b5f",
   "metadata": {},
   "source": [
    "#### so *args is a tuple --> list but immutable"
   ]
  },
  {
   "cell_type": "markdown",
   "id": "d28987e9",
   "metadata": {},
   "source": [
    "#### tidak harus *args bisa juga *data atau yang lainnya"
   ]
  },
  {
   "cell_type": "markdown",
   "id": "58669df0",
   "metadata": {},
   "source": [
    "###  **arg in Function"
   ]
  },
  {
   "cell_type": "code",
   "execution_count": null,
   "id": "58c90ce9",
   "metadata": {},
   "outputs": [],
   "source": [
    "def function(**argument):\n",
    "    for key in argument:\n",
    "        print(f\"{key} --> {argument[key]}\")\n",
    "    print(argument)"
   ]
  },
  {
   "cell_type": "code",
   "execution_count": null,
   "id": "138ae2ba",
   "metadata": {},
   "outputs": [],
   "source": [
    "function(arg1 = 'Ohaa',arg2 = 'Tutturu')"
   ]
  },
  {
   "cell_type": "markdown",
   "id": "8d529325",
   "metadata": {},
   "source": [
    "#### so the **args is a dictionary"
   ]
  },
  {
   "cell_type": "markdown",
   "id": "f6792bf4",
   "metadata": {},
   "source": [
    "### Default values in Functions"
   ]
  },
  {
   "cell_type": "code",
   "execution_count": null,
   "id": "16628d2b",
   "metadata": {},
   "outputs": [],
   "source": [
    "def display(num = 0):\n",
    "    print(num)"
   ]
  },
  {
   "cell_type": "code",
   "execution_count": null,
   "id": "b19c9690",
   "metadata": {},
   "outputs": [],
   "source": [
    "display()\n",
    "display(12)"
   ]
  },
  {
   "cell_type": "markdown",
   "id": "fbcc7a27",
   "metadata": {},
   "source": [
    "## Modules"
   ]
  },
  {
   "cell_type": "markdown",
   "id": "10abbaf8",
   "metadata": {},
   "source": [
    "#### Harus dalam python file"
   ]
  },
  {
   "cell_type": "markdown",
   "id": "463a5509",
   "metadata": {},
   "source": [
    "#### Cara import"
   ]
  },
  {
   "cell_type": "markdown",
   "id": "0e4f9d11",
   "metadata": {},
   "source": [
    "#### Cara 1"
   ]
  },
  {
   "cell_type": "code",
   "execution_count": null,
   "id": "5c2d5b9d",
   "metadata": {},
   "outputs": [],
   "source": [
    "import sys \n",
    "sys.path.append('D:\\Pemrograman\\Jupyter Notebook')\n",
    "import test"
   ]
  },
  {
   "cell_type": "code",
   "execution_count": null,
   "id": "c70ab6f2",
   "metadata": {},
   "outputs": [],
   "source": [
    "nilai = test.sum_all(1,213,141,414)\n",
    "print(nilai)"
   ]
  },
  {
   "cell_type": "markdown",
   "id": "62639b2e",
   "metadata": {},
   "source": [
    "#### Cara 2 (jika dalam folder yang sama)"
   ]
  },
  {
   "cell_type": "code",
   "execution_count": null,
   "id": "3a211f19",
   "metadata": {},
   "outputs": [],
   "source": [
    "import test"
   ]
  },
  {
   "cell_type": "code",
   "execution_count": null,
   "id": "4b6606a4",
   "metadata": {},
   "outputs": [],
   "source": [
    "print(test.sum(1,2))"
   ]
  },
  {
   "cell_type": "markdown",
   "id": "e68a77b0",
   "metadata": {},
   "source": [
    "## String"
   ]
  },
  {
   "cell_type": "code",
   "execution_count": null,
   "id": "466181d1",
   "metadata": {},
   "outputs": [],
   "source": [
    "s = 'Ohaa'"
   ]
  },
  {
   "cell_type": "code",
   "execution_count": null,
   "id": "c1185fca",
   "metadata": {},
   "outputs": [],
   "source": [
    "type(s)"
   ]
  },
  {
   "cell_type": "code",
   "execution_count": null,
   "id": "d43cf31f",
   "metadata": {},
   "outputs": [],
   "source": [
    "a = \"\"\"This is line 1\n",
    "This is line 2\n",
    "This is line 3\n",
    "\"\"\""
   ]
  },
  {
   "cell_type": "code",
   "execution_count": null,
   "id": "e9d8aa8f",
   "metadata": {},
   "outputs": [],
   "source": [
    "type(a)"
   ]
  },
  {
   "cell_type": "code",
   "execution_count": null,
   "id": "29b5c1e5",
   "metadata": {},
   "outputs": [],
   "source": [
    "print(a)"
   ]
  },
  {
   "cell_type": "code",
   "execution_count": null,
   "id": "f5166f9b",
   "metadata": {},
   "outputs": [],
   "source": [
    "w = 'KASURnababanRuSak'"
   ]
  },
  {
   "cell_type": "code",
   "execution_count": null,
   "id": "d3f9212c",
   "metadata": {},
   "outputs": [],
   "source": [
    "print(w[::-1])"
   ]
  },
  {
   "cell_type": "code",
   "execution_count": null,
   "id": "a8c3fa09",
   "metadata": {},
   "outputs": [],
   "source": [
    "q = ' Ada spaces di awal dan di akhir '\n",
    "print(q.strip())"
   ]
  },
  {
   "cell_type": "code",
   "execution_count": null,
   "id": "528ccac9",
   "metadata": {},
   "outputs": [],
   "source": [
    "q = 'Kurisu Tohsaka Asuna'\n",
    "c = q.lower()\n",
    "d = q.upper()"
   ]
  },
  {
   "cell_type": "code",
   "execution_count": null,
   "id": "f60d2580",
   "metadata": {},
   "outputs": [],
   "source": [
    "print(c)\n",
    "print(d)"
   ]
  },
  {
   "cell_type": "code",
   "execution_count": null,
   "id": "e94cc01d",
   "metadata": {},
   "outputs": [],
   "source": [
    "e = q.replace('Asuna','Venti')"
   ]
  },
  {
   "cell_type": "code",
   "execution_count": null,
   "id": "755aa88e",
   "metadata": {},
   "outputs": [],
   "source": [
    "print(e)"
   ]
  },
  {
   "cell_type": "code",
   "execution_count": null,
   "id": "34601d83",
   "metadata": {},
   "outputs": [],
   "source": [
    "f = q.split()\n",
    "print(f)"
   ]
  },
  {
   "cell_type": "code",
   "execution_count": null,
   "id": "41690db8",
   "metadata": {},
   "outputs": [],
   "source": [
    "h = '\\/'.join(f)"
   ]
  },
  {
   "cell_type": "code",
   "execution_count": null,
   "id": "2ac85118",
   "metadata": {},
   "outputs": [],
   "source": [
    "print(h)"
   ]
  },
  {
   "cell_type": "code",
   "execution_count": null,
   "id": "43595831",
   "metadata": {},
   "outputs": [],
   "source": [
    "b = q.count('u')"
   ]
  },
  {
   "cell_type": "code",
   "execution_count": null,
   "id": "e9500858",
   "metadata": {},
   "outputs": [],
   "source": [
    "print(b)"
   ]
  },
  {
   "cell_type": "code",
   "execution_count": null,
   "id": "70093a1d",
   "metadata": {},
   "outputs": [],
   "source": [
    "r = 'Kurisu' in 'I Love Makise Kurisu'\n",
    "\n",
    "print(r)"
   ]
  },
  {
   "cell_type": "code",
   "execution_count": null,
   "id": "337aa6d7",
   "metadata": {},
   "outputs": [],
   "source": [
    "truth = 'Kurisu' > 'Hinata'\n",
    "print(truth)"
   ]
  },
  {
   "cell_type": "code",
   "execution_count": null,
   "id": "10827293",
   "metadata": {},
   "outputs": [],
   "source": [
    "print(f\"C:\\Drive\\\\name\")"
   ]
  },
  {
   "cell_type": "markdown",
   "id": "28bbf587",
   "metadata": {},
   "source": [
    "## Data Structures"
   ]
  },
  {
   "cell_type": "markdown",
   "id": "28d0372e",
   "metadata": {},
   "source": [
    "List --> Ordering(punya index) , Mutable , Duplicates"
   ]
  },
  {
   "cell_type": "markdown",
   "id": "4b22c59f",
   "metadata": {},
   "source": [
    "Tuple --> Ordered, Immutable,Duplicates"
   ]
  },
  {
   "cell_type": "markdown",
   "id": "0492223a",
   "metadata": {},
   "source": [
    "Set --> Unordered,addable/removable,no duplicates"
   ]
  },
  {
   "cell_type": "markdown",
   "id": "a0b5010b",
   "metadata": {},
   "source": [
    "Dictionary --> Unordered, Mutable ,No Duplicate"
   ]
  },
  {
   "cell_type": "code",
   "execution_count": 55,
   "id": "0c63066c",
   "metadata": {},
   "outputs": [
    {
     "name": "stdout",
     "output_type": "stream",
     "text": [
      "{1, 2, 3, 41}\n"
     ]
    }
   ],
   "source": [
    "set_a = {1,2,3,41,1}\n",
    "\n",
    "print(set_a)"
   ]
  },
  {
   "cell_type": "code",
   "execution_count": 56,
   "id": "e8c65f15",
   "metadata": {},
   "outputs": [
    {
     "ename": "TypeError",
     "evalue": "'set' object is not subscriptable",
     "output_type": "error",
     "traceback": [
      "\u001b[1;31m---------------------------------------------------------------------------\u001b[0m",
      "\u001b[1;31mTypeError\u001b[0m                                 Traceback (most recent call last)",
      "Cell \u001b[1;32mIn [56], line 1\u001b[0m\n\u001b[1;32m----> 1\u001b[0m \u001b[38;5;28mprint\u001b[39m(\u001b[43mset_a\u001b[49m\u001b[43m[\u001b[49m\u001b[38;5;241;43m0\u001b[39;49m\u001b[43m]\u001b[49m)\n",
      "\u001b[1;31mTypeError\u001b[0m: 'set' object is not subscriptable"
     ]
    }
   ],
   "source": [
    "print(set_a[0])"
   ]
  },
  {
   "cell_type": "code",
   "execution_count": 57,
   "id": "17774c32",
   "metadata": {},
   "outputs": [
    {
     "name": "stdout",
     "output_type": "stream",
     "text": [
      "{1, 2, 3, 41, 121}\n"
     ]
    }
   ],
   "source": [
    "set_a.add(121)\n",
    "\n",
    "print(set_a)"
   ]
  },
  {
   "cell_type": "code",
   "execution_count": 58,
   "id": "67158bde",
   "metadata": {},
   "outputs": [],
   "source": [
    "L = [1,2,3,4,5]\n",
    "T = (1,2,3,4,5)\n",
    "S = {1,2,3,4,5}\n",
    "D = {'KEY1': 1,\n",
    "    'KEY2':2,\n",
    "    'KEY3':3,\n",
    "    'KEY4':4,\n",
    "    'KEY5':5}"
   ]
  },
  {
   "cell_type": "code",
   "execution_count": 59,
   "id": "bc55d761",
   "metadata": {},
   "outputs": [
    {
     "name": "stdout",
     "output_type": "stream",
     "text": [
      "[1, 2, 3, 4, 5]\n",
      "<class 'list'>\n",
      "(1, 2, 3, 4, 5)\n",
      "<class 'tuple'>\n",
      "{1, 2, 3, 4, 5}\n",
      "<class 'set'>\n",
      "{'KEY1': 1, 'KEY2': 2, 'KEY3': 3, 'KEY4': 4, 'KEY5': 5}\n",
      "<class 'dict'>\n"
     ]
    }
   ],
   "source": [
    "print(L)\n",
    "print(type(L))\n",
    "print(T)\n",
    "print(type(T))\n",
    "print(S)\n",
    "print(type(S))\n",
    "print(D)\n",
    "print(type(D))"
   ]
  },
  {
   "cell_type": "code",
   "execution_count": 60,
   "id": "85bf461c",
   "metadata": {},
   "outputs": [
    {
     "name": "stdout",
     "output_type": "stream",
     "text": [
      "(1, 2, 3, 4, 5, 12, 121, 21)\n"
     ]
    }
   ],
   "source": [
    "T = T + (12,121,21)\n",
    "print(T)"
   ]
  },
  {
   "cell_type": "code",
   "execution_count": 61,
   "id": "f4309be0",
   "metadata": {},
   "outputs": [
    {
     "name": "stdout",
     "output_type": "stream",
     "text": [
      "Help on built-in function update:\n",
      "\n",
      "update(...) method of builtins.set instance\n",
      "    Update a set with the union of itself and others.\n",
      "\n"
     ]
    }
   ],
   "source": [
    "help(S.update)"
   ]
  },
  {
   "cell_type": "code",
   "execution_count": 62,
   "id": "8daffb46",
   "metadata": {},
   "outputs": [
    {
     "name": "stdout",
     "output_type": "stream",
     "text": [
      "[2, 3, 4, 5]\n"
     ]
    }
   ],
   "source": [
    "del L[0]\n",
    "print(L)"
   ]
  },
  {
   "cell_type": "code",
   "execution_count": 63,
   "id": "eb48a86a",
   "metadata": {},
   "outputs": [],
   "source": [
    "S.update({1,12,11212,121200})"
   ]
  },
  {
   "cell_type": "code",
   "execution_count": 64,
   "id": "af27a4c9",
   "metadata": {},
   "outputs": [
    {
     "name": "stdout",
     "output_type": "stream",
     "text": [
      "{1, 2, 3, 4, 5, 11212, 12, 121200}\n"
     ]
    }
   ],
   "source": [
    "print(S)"
   ]
  },
  {
   "cell_type": "code",
   "execution_count": 65,
   "id": "d286a7e7",
   "metadata": {},
   "outputs": [],
   "source": [
    "D['KEY6'] = 'Kurisu'"
   ]
  },
  {
   "cell_type": "code",
   "execution_count": 66,
   "id": "9b614190",
   "metadata": {},
   "outputs": [
    {
     "ename": "KeyError",
     "evalue": "'key6'",
     "output_type": "error",
     "traceback": [
      "\u001b[1;31m---------------------------------------------------------------------------\u001b[0m",
      "\u001b[1;31mKeyError\u001b[0m                                  Traceback (most recent call last)",
      "Cell \u001b[1;32mIn [66], line 1\u001b[0m\n\u001b[1;32m----> 1\u001b[0m \u001b[38;5;28;01mdel\u001b[39;00m D[\u001b[38;5;124m'\u001b[39m\u001b[38;5;124mkey6\u001b[39m\u001b[38;5;124m'\u001b[39m]\n",
      "\u001b[1;31mKeyError\u001b[0m: 'key6'"
     ]
    }
   ],
   "source": [
    "del D['key6']"
   ]
  },
  {
   "cell_type": "code",
   "execution_count": 67,
   "id": "4fcb5e61",
   "metadata": {},
   "outputs": [
    {
     "name": "stdout",
     "output_type": "stream",
     "text": [
      "{'KEY1': 1, 'KEY2': 2, 'KEY3': 3, 'KEY4': 4, 'KEY5': 5, 'KEY6': 'Kurisu'}\n"
     ]
    }
   ],
   "source": [
    "print(D)"
   ]
  },
  {
   "cell_type": "code",
   "execution_count": 68,
   "id": "7a984329",
   "metadata": {},
   "outputs": [
    {
     "name": "stdout",
     "output_type": "stream",
     "text": [
      "{1, 2, 3, 4, 5, 12, 121200}\n"
     ]
    }
   ],
   "source": [
    "S.remove(11212)\n",
    "print(S)"
   ]
  },
  {
   "cell_type": "code",
   "execution_count": 69,
   "id": "c4dfe35f",
   "metadata": {},
   "outputs": [
    {
     "name": "stdout",
     "output_type": "stream",
     "text": [
      "[2, 3, 4, 5] {121200, 1, 2, 3, 4, 5, 12} {'KEY1': 1, 'KEY2': 2, 'KEY3': 3, 'KEY4': 4, 'KEY5': 5, 'KEY6': 'Kurisu'}\n"
     ]
    }
   ],
   "source": [
    "L2 = L.copy()\n",
    "S2 = S.copy()\n",
    "D2 = D.copy()\n",
    "\n",
    "print(L2,S2,D2)"
   ]
  },
  {
   "cell_type": "code",
   "execution_count": 70,
   "id": "9ba44b98",
   "metadata": {},
   "outputs": [],
   "source": [
    "L2[0] = 'kURISU'"
   ]
  },
  {
   "cell_type": "code",
   "execution_count": 71,
   "id": "7b26728a",
   "metadata": {},
   "outputs": [
    {
     "name": "stdout",
     "output_type": "stream",
     "text": [
      "[2, 3, 4, 5] ['kURISU', 3, 4, 5]\n"
     ]
    }
   ],
   "source": [
    "print(L,L2)"
   ]
  },
  {
   "cell_type": "code",
   "execution_count": 72,
   "id": "53ea44a4",
   "metadata": {},
   "outputs": [],
   "source": [
    "L2.append('Kurisu-chan')"
   ]
  },
  {
   "cell_type": "code",
   "execution_count": 73,
   "id": "d66dbb6e",
   "metadata": {},
   "outputs": [
    {
     "name": "stdout",
     "output_type": "stream",
     "text": [
      "['kURISU', 3, 4, 5, 'Kurisu-chan']\n"
     ]
    }
   ],
   "source": [
    "print(L2)"
   ]
  },
  {
   "cell_type": "markdown",
   "id": "d859ff0d",
   "metadata": {},
   "source": [
    "## Latihan Data Structure"
   ]
  },
  {
   "cell_type": "code",
   "execution_count": 78,
   "id": "4c377673",
   "metadata": {},
   "outputs": [],
   "source": [
    "def get_data_students():\n",
    "    data_students = {}\n",
    "    while True:\n",
    "        student_id = input(\"Enter student id : \")\n",
    "        students_marks = input(\"Enter student marks with comma separated value : \").split(',')\n",
    "        if student_id in data_students.keys():\n",
    "            print(f\"Student Id ({student_id}) is already inserted\")\n",
    "        else :\n",
    "            data_students[student_id] = students_marks\n",
    "            is_continue = input(\"Continue (yes/no)?\").lower()\n",
    "            if is_continue == 'no':\n",
    "                return data_students\n",
    "            "
   ]
  },
  {
   "cell_type": "code",
   "execution_count": 82,
   "id": "2b210978",
   "metadata": {},
   "outputs": [],
   "source": [
    "def get_avg_marks(data_students):\n",
    "    data_avg_marks = {}\n",
    "    for data in data_students:\n",
    "        data_marks = data_students[data]\n",
    "        sum = 0\n",
    "        for mark in data_marks :\n",
    "            sum += int(mark)\n",
    "        data_avg_marks[data] = sum/len(data_marks)\n",
    "        \n",
    "    return data_avg_marks"
   ]
  },
  {
   "cell_type": "code",
   "execution_count": 83,
   "id": "abba2a05",
   "metadata": {},
   "outputs": [
    {
     "name": "stdout",
     "output_type": "stream",
     "text": [
      "Enter student id : 12\n",
      "Enter student marks with comma separated value : 100,90,91,99\n",
      "Continue (yes/no)?yes\n",
      "Enter student id : 13\n",
      "Enter student marks with comma separated value : 100,90,98,87\n",
      "Continue (yes/no)?no\n",
      "Student Id : 12 , get avg marks : 95.0\n",
      "Student Id : 13 , get avg marks : 93.75\n"
     ]
    }
   ],
   "source": [
    "data_students = get_data_students()\n",
    "data_avg_marks = get_avg_marks(data_students)\n",
    "for x in data_avg_marks:\n",
    "    print(f\"Student Id : {x} , get avg marks : {data_avg_marks[x]}\")"
   ]
  },
  {
   "cell_type": "code",
   "execution_count": null,
   "id": "f362a81b",
   "metadata": {},
   "outputs": [],
   "source": []
  }
 ],
 "metadata": {
  "kernelspec": {
   "display_name": "Python 3 (ipykernel)",
   "language": "python",
   "name": "python3"
  },
  "language_info": {
   "codemirror_mode": {
    "name": "ipython",
    "version": 3
   },
   "file_extension": ".py",
   "mimetype": "text/x-python",
   "name": "python",
   "nbconvert_exporter": "python",
   "pygments_lexer": "ipython3",
   "version": "3.10.7"
  }
 },
 "nbformat": 4,
 "nbformat_minor": 5
}
